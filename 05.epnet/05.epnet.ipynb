{
 "cells": [
  {
   "cell_type": "markdown",
   "id": "4a27584e",
   "metadata": {},
   "source": [
    "### 1.lzd_sea_mc.json"
   ]
  },
  {
   "cell_type": "code",
   "execution_count": null,
   "id": "f3297796",
   "metadata": {},
   "outputs": [],
   "source": [
    "  \"epnet\": [\n",
    "    {\"column_name\": \"lower_k\"},\n",
    "    {\"column_name\": \"traffic_src\"},\n",
    "    {\"column_name\": \"page_idx\"}\n",
    "  ],"
   ]
  },
  {
   "cell_type": "markdown",
   "id": "efe9e7c3",
   "metadata": {},
   "source": [
    "### 2. add gatenu.py"
   ]
  },
  {
   "cell_type": "code",
   "execution_count": null,
   "id": "eb970e78",
   "metadata": {},
   "outputs": [],
   "source": [
    "import tensorflow as tf\n",
    "from tensorflow.contrib import layers\n",
    "from model_layers import Activation, bn_layer\n",
    "from run_config import RunConfig as cfg\n",
    "class GateNU:\n",
    "    def __init__(self,\n",
    "                 hidden_unit,\n",
    "                 is_rank_trainning,\n",
    "                 pv_labels,\n",
    "                 gamma=2.,\n",
    "                 l2_reg=cfg.dnn_l2_reg,\n",
    "                 scope='gate_nu'):\n",
    "        self.hidden_unit = hidden_unit\n",
    "        self._is_rank_training = is_rank_trainning\n",
    "        self._pv_labels = pv_labels\n",
    "        self.gamma = gamma\n",
    "        self.l2_reg = l2_reg\n",
    "        self.scope = scope\n",
    "    def __call__(self, inputs):\n",
    "        with tf.variable_scope(self.scope):\n",
    "            output = layers.fully_connected(\n",
    "                inputs,\n",
    "                self.hidden_unit,\n",
    "                activation_fn=Activation(\"swish\"),\n",
    "                normalizer_fn=layers.layer_norm,\n",
    "                normalizer_params={'scale': True, 'center': True}\n",
    "            )\n",
    "            output = layers.fully_connected(\n",
    "                output,\n",
    "                self.hidden_unit,\n",
    "                activation_fn=Activation(\"sigmoid\"),\n",
    "                normalizer_fn=layers.layer_norm,\n",
    "                normalizer_params={'scale': True, 'center': True}\n",
    "            )\n",
    "            return self.gamma * output"
   ]
  },
  {
   "cell_type": "markdown",
   "id": "9699095b",
   "metadata": {},
   "source": [
    "### 3. model"
   ]
  },
  {
   "cell_type": "code",
   "execution_count": null,
   "id": "4729a76a",
   "metadata": {},
   "outputs": [],
   "source": [
    "from gatenu import GateNU\n",
    "\n",
    "self.gate_nu_summary = OrderedDict()\n",
    "\n",
    "\n",
    "            net_size = int(self._net.shape[-1])\n",
    "            self.domain = self.mark_tag(input_tensors.get(\"epnet\"),\"gate_nu_domain_layer\")\n",
    "            gate_nu = GateNU(net_size, self._is_rank_training, self._pv_labels, scope='domain_gate_nu')(tf.concat([self.domain, tf.stop_gradient(self._net)], axis=-1))\n",
    "            self.gate_nu_summary['base_features_GateNU'] = gate_nu\n",
    "            self._net = self._net * gate_nu\n",
    "            self._net = tf.concat([self._urb_item_rele_cosine_fea,      # (?, 32)\n",
    "                                   self._coins_search_feats,            # (?, 6)\n",
    "                                   self._cross_feature_layer,           # (?, 64)\n",
    "                                   self._net], axis=1)"
   ]
  },
  {
   "cell_type": "markdown",
   "id": "734ef591",
   "metadata": {},
   "source": [
    "### 4. summary"
   ]
  },
  {
   "cell_type": "markdown",
   "id": "7fec885b",
   "metadata": {},
   "source": [
    "self.gate_nu_summary = OrderedDict()\n",
    "self.gate_nu_summary['Hidden_{}_{}_GateNU'.format(layer_id, name)] = gate_nu\n",
    "\n",
    "for name, var in self.gate_nu_summary.items():\n",
    "    variable_summaries(model, name, var, mode)"
   ]
  }
 ],
 "metadata": {
  "kernelspec": {
   "display_name": "Python3.10",
   "language": "python",
   "name": "python3.10"
  },
  "language_info": {
   "codemirror_mode": {
    "name": "ipython",
    "version": 3
   },
   "file_extension": ".py",
   "mimetype": "text/x-python",
   "name": "python",
   "nbconvert_exporter": "python",
   "pygments_lexer": "ipython3",
   "version": "3.10.13+gc"
  }
 },
 "nbformat": 4,
 "nbformat_minor": 5
}
