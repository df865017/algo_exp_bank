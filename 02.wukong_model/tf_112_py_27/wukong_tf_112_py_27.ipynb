{
 "cells": [
  {
   "cell_type": "code",
   "execution_count": null,
   "id": "bb41cec4",
   "metadata": {},
   "outputs": [],
   "source": [
    "\n"
   ]
  },
  {
   "cell_type": "markdown",
   "id": "76f087c0",
   "metadata": {},
   "source": [
    "### 1.0 MLP"
   ]
  },
  {
   "cell_type": "code",
   "execution_count": 1,
   "id": "57890f69",
   "metadata": {},
   "outputs": [
    {
     "ename": "ModuleNotFoundError",
     "evalue": "No module named 'tensorflow'",
     "output_type": "error",
     "traceback": [
      "\u001b[31m---------------------------------------------------------------------------\u001b[39m",
      "\u001b[31mModuleNotFoundError\u001b[39m                       Traceback (most recent call last)",
      "\u001b[36mCell\u001b[39m\u001b[36m \u001b[39m\u001b[32mIn[1]\u001b[39m\u001b[32m, line 2\u001b[39m\n\u001b[32m      1\u001b[39m \u001b[38;5;28;01mimport\u001b[39;00m\u001b[38;5;250m \u001b[39m\u001b[34;01mnumpy\u001b[39;00m\u001b[38;5;250m \u001b[39m\u001b[38;5;28;01mas\u001b[39;00m\u001b[38;5;250m \u001b[39m\u001b[34;01mnp\u001b[39;00m\n\u001b[32m----> \u001b[39m\u001b[32m2\u001b[39m \u001b[38;5;28;01mimport\u001b[39;00m\u001b[38;5;250m \u001b[39m\u001b[34;01mtensorflow\u001b[39;00m\u001b[38;5;250m \u001b[39m\u001b[38;5;28;01mas\u001b[39;00m\u001b[38;5;250m \u001b[39m\u001b[34;01mtf\u001b[39;00m\n\u001b[32m      4\u001b[39m BATCH_SIZE = \u001b[32m32\u001b[39m\n\u001b[32m      5\u001b[39m INPUT_DIM = \u001b[32m51\u001b[39m\n",
      "\u001b[31mModuleNotFoundError\u001b[39m: No module named 'tensorflow'"
     ]
    }
   ],
   "source": [
    "\n",
    "\n",
    "import numpy as np\n",
    "import tensorflow as tf\n",
    "\n",
    "BATCH_SIZE = 32\n",
    "INPUT_DIM = 51\n",
    "\n",
    "def generate_data_v1(BATCH_SIZE=32, INPUT_DIM=128):\n",
    "    # 生成两个输入特征\n",
    "    inputs_0 = np.random.rand(BATCH_SIZE, INPUT_DIM).astype(np.float32)\n",
    "    inputs_1 = np.random.rand(BATCH_SIZE, INPUT_DIM).astype(np.float32)\n",
    "\n",
    "    # 生成伪标签：正样本的特征均值偏高\n",
    "    feature_mean = (np.mean(inputs_0, axis=1) + np.mean(inputs_1, axis=1)) / 2\n",
    "\n",
    "    # 生成标签：正样本的概率与均值相关\n",
    "    # 通过 sigmoid 引入非线性关系，加入噪声使模型难以完美拟合\n",
    "    prob = 1 / (1 + np.exp(-feature_mean + np.random.normal(0, 1.0, size=BATCH_SIZE)))\n",
    "    \n",
    "    # 将 prob 重塑为 (BATCH_SIZE, 1) 以匹配 size=(BATCH_SIZE, 1)\n",
    "    prob = prob.reshape(BATCH_SIZE, 1)\n",
    "    \n",
    "    # 生成二项式分布的标签\n",
    "    labels = np.random.binomial(1, prob, size=(BATCH_SIZE, 1)).astype(np.float32)\n",
    "\n",
    "    # 构建 Dataset\n",
    "    dataset = tf.data.Dataset.from_tensor_slices(\n",
    "        ({'input_0': inputs_0, 'input_1': inputs_1}, labels)\n",
    "    ).shuffle(1000).batch(BATCH_SIZE)\n",
    "\n",
    "    return dataset\n",
    "\n",
    "# 创建 Dataset\n",
    "dataset = generate_data_v1(BATCH_SIZE, INPUT_DIM)\n"
   ]
  },
  {
   "cell_type": "code",
   "execution_count": null,
   "id": "d1507e92",
   "metadata": {},
   "outputs": [
    {
     "name": "stdout",
     "output_type": "stream",
     "text": [
      "Epoch 0, Loss: 0.6877, AUC: 0.4722\n",
      "Epoch 1, Loss: 0.6715, AUC: 0.5873\n",
      "Epoch 2, Loss: 0.6567, AUC: 0.6964\n",
      "Epoch 3, Loss: 0.6430, AUC: 0.7480\n",
      "Epoch 4, Loss: 0.6298, AUC: 0.8353\n",
      "Epoch 5, Loss: 0.6168, AUC: 0.8730\n",
      "Epoch 6, Loss: 0.6051, AUC: 0.8869\n",
      "Epoch 7, Loss: 0.5937, AUC: 0.9087\n",
      "Epoch 8, Loss: 0.5826, AUC: 0.9127\n",
      "Epoch 9, Loss: 0.5718, AUC: 0.9345\n"
     ]
    }
   ],
   "source": [
    "import numpy as np\n",
    "import tensorflow as tf\n",
    "\n",
    "# 设置随机种子以保证每次生成相同的数据\n",
    "np.random.seed(42)\n",
    "tf.set_random_seed(42)\n",
    "\n",
    "\n",
    "# === 模型定义 ===\n",
    "from tensorflow.python.keras.models import Sequential\n",
    "from tensorflow.python.keras.layers import Dense\n",
    "\n",
    "def build_model(input_dim):\n",
    "    model = Sequential(name=\"simple_mlp\")\n",
    "    model.add(Dense(64, activation='relu', input_shape=(input_dim,)))\n",
    "    model.add(Dense(32, activation='relu'))\n",
    "    model.add(Dense(1))\n",
    "    return model\n",
    "\n",
    "# 超参数\n",
    "BATCH_SIZE = 32\n",
    "INPUT_DIM = 51\n",
    "EPOCHS = 10\n",
    "LR = 0.001\n",
    "\n",
    "\n",
    "\n",
    "# 构建模型\n",
    "model_input = tf.placeholder(tf.float32, shape=[None, 2 * INPUT_DIM], name='model_input')\n",
    "labels_ph = tf.placeholder(tf.float32, shape=[None, 1], name='labels')\n",
    "\n",
    "model = build_model(input_dim=2 * INPUT_DIM)\n",
    "logits = model(model_input)\n",
    "loss = tf.reduce_mean(\n",
    "    tf.nn.sigmoid_cross_entropy_with_logits(\n",
    "        labels=labels_ph, logits=logits\n",
    "    )\n",
    ")\n",
    "\n",
    "optimizer = tf.train.AdamOptimizer(learning_rate=LR)\n",
    "train_op = optimizer.minimize(loss)\n",
    "\n",
    "# AUC 指标\n",
    "predictions = tf.sigmoid(logits)\n",
    "auc_metric, auc_update_op = tf.metrics.auc(\n",
    "    labels=labels_ph,\n",
    "    predictions=predictions,\n",
    "    num_thresholds=200\n",
    ")\n",
    "init_local_vars = tf.local_variables_initializer()\n",
    "\n",
    "# 启动会话\n",
    "with tf.Session() as sess:\n",
    "    sess.run(tf.global_variables_initializer())\n",
    "\n",
    "    for epoch in range(EPOCHS):\n",
    "        # 每个 epoch 重新生成相同的数据集\n",
    "#         dataset = generate_data_v1(BATCH_SIZE, INPUT_DIM)\n",
    "        iterator = dataset.make_one_shot_iterator()\n",
    "        next_batch = iterator.get_next()\n",
    "\n",
    "        # 初始化 AUC 计算\n",
    "        sess.run(init_local_vars)\n",
    "\n",
    "        while True:\n",
    "            try:\n",
    "                inputs_batch, labels_batch = sess.run(next_batch)\n",
    "                x = np.concatenate(\n",
    "                    [inputs_batch['input_0'], inputs_batch['input_1']],\n",
    "                    axis=1\n",
    "                )\n",
    "\n",
    "                _, loss_val, _ = sess.run(\n",
    "                    [train_op, loss, auc_update_op],\n",
    "                    feed_dict={\n",
    "                        model_input: x,\n",
    "                        labels_ph: labels_batch\n",
    "                    }\n",
    "                )\n",
    "            except tf.errors.OutOfRangeError:\n",
    "                break\n",
    "\n",
    "        auc_result = sess.run(auc_metric)\n",
    "        print(\"Epoch %d, Loss: %.4f, AUC: %.4f\" % (epoch, loss_val, auc_result))"
   ]
  },
  {
   "cell_type": "code",
   "execution_count": null,
   "id": "89f5cb1b",
   "metadata": {},
   "outputs": [],
   "source": []
  },
  {
   "cell_type": "code",
   "execution_count": null,
   "id": "ede8e5e7",
   "metadata": {},
   "outputs": [],
   "source": []
  },
  {
   "cell_type": "markdown",
   "id": "1ad82b46",
   "metadata": {},
   "source": [
    "### 2.0 悟空"
   ]
  },
  {
   "cell_type": "code",
   "execution_count": 3,
   "id": "c224887d",
   "metadata": {},
   "outputs": [
    {
     "name": "stderr",
     "output_type": "stream",
     "text": [
      "DEBUG:root:f01:inputs : Tensor(\"concat:0\", shape=(32, 256), dtype=float32)\n"
     ]
    },
    {
     "data": {
      "text/markdown": [
       "**2025-07-04 23:45:31,754 - DEBUG - f01:inputs : Tensor(\"concat:0\", shape=(32, 256), dtype=float32)**"
      ],
      "text/plain": [
       "<IPython.core.display.Markdown object>"
      ]
     },
     "metadata": {},
     "output_type": "display_data"
    },
    {
     "data": {
      "text/markdown": [
       "**2025-07-04 23:45:31,754 - DEBUG - f01:inputs : Tensor(\"concat:0\", shape=(32, 256), dtype=float32)**"
      ],
      "text/plain": [
       "<IPython.core.display.Markdown object>"
      ]
     },
     "metadata": {},
     "output_type": "display_data"
    },
    {
     "name": "stderr",
     "output_type": "stream",
     "text": [
      "2025-07-04 23:45:31,754 - DEBUG - f01:inputs : Tensor(\"concat:0\", shape=(32, 256), dtype=float32)\n",
      "DEBUG:root:f02:outputs : Tensor(\"wukong/Reshape:0\", shape=(32, 102, 51), dtype=float32)\n"
     ]
    },
    {
     "data": {
      "text/markdown": [
       "**2025-07-04 23:45:31,791 - DEBUG - f02:outputs : Tensor(\"wukong/Reshape:0\", shape=(32, 102, 51), dtype=float32)**"
      ],
      "text/plain": [
       "<IPython.core.display.Markdown object>"
      ]
     },
     "metadata": {},
     "output_type": "display_data"
    },
    {
     "data": {
      "text/markdown": [
       "**2025-07-04 23:45:31,791 - DEBUG - f02:outputs : Tensor(\"wukong/Reshape:0\", shape=(32, 102, 51), dtype=float32)**"
      ],
      "text/plain": [
       "<IPython.core.display.Markdown object>"
      ]
     },
     "metadata": {},
     "output_type": "display_data"
    },
    {
     "name": "stderr",
     "output_type": "stream",
     "text": [
      "2025-07-04 23:45:31,791 - DEBUG - f02:outputs : Tensor(\"wukong/Reshape:0\", shape=(32, 102, 51), dtype=float32)\n",
      "DEBUG:root:f02-01:inputs : Tensor(\"wukong/Reshape:0\", shape=(32, 102, 51), dtype=float32)\n"
     ]
    },
    {
     "data": {
      "text/markdown": [
       "**2025-07-04 23:45:31,797 - DEBUG - f02-01:inputs : Tensor(\"wukong/Reshape:0\", shape=(32, 102, 51), dtype=float32)**"
      ],
      "text/plain": [
       "<IPython.core.display.Markdown object>"
      ]
     },
     "metadata": {},
     "output_type": "display_data"
    },
    {
     "data": {
      "text/markdown": [
       "**2025-07-04 23:45:31,797 - DEBUG - f02-01:inputs : Tensor(\"wukong/Reshape:0\", shape=(32, 102, 51), dtype=float32)**"
      ],
      "text/plain": [
       "<IPython.core.display.Markdown object>"
      ]
     },
     "metadata": {},
     "output_type": "display_data"
    },
    {
     "name": "stderr",
     "output_type": "stream",
     "text": [
      "2025-07-04 23:45:31,797 - DEBUG - f02-01:inputs : Tensor(\"wukong/Reshape:0\", shape=(32, 102, 51), dtype=float32)\n",
      "DEBUG:root:f02-01-01:inputs : Tensor(\"wukong/Reshape:0\", shape=(32, 102, 51), dtype=float32)\n"
     ]
    },
    {
     "data": {
      "text/markdown": [
       "**2025-07-04 23:45:31,813 - DEBUG - f02-01-01:inputs : Tensor(\"wukong/Reshape:0\", shape=(32, 102, 51), dtype=float32)**"
      ],
      "text/plain": [
       "<IPython.core.display.Markdown object>"
      ]
     },
     "metadata": {},
     "output_type": "display_data"
    },
    {
     "data": {
      "text/markdown": [
       "**2025-07-04 23:45:31,813 - DEBUG - f02-01-01:inputs : Tensor(\"wukong/Reshape:0\", shape=(32, 102, 51), dtype=float32)**"
      ],
      "text/plain": [
       "<IPython.core.display.Markdown object>"
      ]
     },
     "metadata": {},
     "output_type": "display_data"
    },
    {
     "name": "stderr",
     "output_type": "stream",
     "text": [
      "2025-07-04 23:45:31,813 - DEBUG - f02-01-01:inputs : Tensor(\"wukong/Reshape:0\", shape=(32, 102, 51), dtype=float32)\n",
      "DEBUG:root:f02-01-02:outputs : Tensor(\"wukong/sequential/linear_compress_block/transpose:0\", shape=(32, 51, 102), dtype=float32)\n"
     ]
    },
    {
     "data": {
      "text/markdown": [
       "**2025-07-04 23:45:31,819 - DEBUG - f02-01-02:outputs : Tensor(\"wukong/sequential/linear_compress_block/transpose:0\", shape=(32, 51, 102), dtype=float32)**"
      ],
      "text/plain": [
       "<IPython.core.display.Markdown object>"
      ]
     },
     "metadata": {},
     "output_type": "display_data"
    },
    {
     "data": {
      "text/markdown": [
       "**2025-07-04 23:45:31,819 - DEBUG - f02-01-02:outputs : Tensor(\"wukong/sequential/linear_compress_block/transpose:0\", shape=(32, 51, 102), dtype=float32)**"
      ],
      "text/plain": [
       "<IPython.core.display.Markdown object>"
      ]
     },
     "metadata": {},
     "output_type": "display_data"
    },
    {
     "name": "stderr",
     "output_type": "stream",
     "text": [
      "2025-07-04 23:45:31,819 - DEBUG - f02-01-02:outputs : Tensor(\"wukong/sequential/linear_compress_block/transpose:0\", shape=(32, 51, 102), dtype=float32)\n",
      "DEBUG:root:f02-01-03:outputs : Tensor(\"wukong/sequential/linear_compress_block/Tensordot:0\", shape=(32, 51, 16), dtype=float32)\n"
     ]
    },
    {
     "data": {
      "text/markdown": [
       "**2025-07-04 23:45:31,833 - DEBUG - f02-01-03:outputs : Tensor(\"wukong/sequential/linear_compress_block/Tensordot:0\", shape=(32, 51, 16), dtype=float32)**"
      ],
      "text/plain": [
       "<IPython.core.display.Markdown object>"
      ]
     },
     "metadata": {},
     "output_type": "display_data"
    },
    {
     "data": {
      "text/markdown": [
       "**2025-07-04 23:45:31,833 - DEBUG - f02-01-03:outputs : Tensor(\"wukong/sequential/linear_compress_block/Tensordot:0\", shape=(32, 51, 16), dtype=float32)**"
      ],
      "text/plain": [
       "<IPython.core.display.Markdown object>"
      ]
     },
     "metadata": {},
     "output_type": "display_data"
    },
    {
     "name": "stderr",
     "output_type": "stream",
     "text": [
      "2025-07-04 23:45:31,833 - DEBUG - f02-01-03:outputs : Tensor(\"wukong/sequential/linear_compress_block/Tensordot:0\", shape=(32, 51, 16), dtype=float32)\n",
      "DEBUG:root:f02-01-04:outputs : Tensor(\"wukong/sequential/linear_compress_block/transpose_1:0\", shape=(32, 16, 51), dtype=float32)\n"
     ]
    },
    {
     "data": {
      "text/markdown": [
       "**2025-07-04 23:45:31,840 - DEBUG - f02-01-04:outputs : Tensor(\"wukong/sequential/linear_compress_block/transpose_1:0\", shape=(32, 16, 51), dtype=float32)**"
      ],
      "text/plain": [
       "<IPython.core.display.Markdown object>"
      ]
     },
     "metadata": {},
     "output_type": "display_data"
    },
    {
     "data": {
      "text/markdown": [
       "**2025-07-04 23:45:31,840 - DEBUG - f02-01-04:outputs : Tensor(\"wukong/sequential/linear_compress_block/transpose_1:0\", shape=(32, 16, 51), dtype=float32)**"
      ],
      "text/plain": [
       "<IPython.core.display.Markdown object>"
      ]
     },
     "metadata": {},
     "output_type": "display_data"
    },
    {
     "name": "stderr",
     "output_type": "stream",
     "text": [
      "2025-07-04 23:45:31,840 - DEBUG - f02-01-04:outputs : Tensor(\"wukong/sequential/linear_compress_block/transpose_1:0\", shape=(32, 16, 51), dtype=float32)\n",
      "DEBUG:root:f02-02:lcb : Tensor(\"wukong/sequential/linear_compress_block/transpose_1:0\", shape=(32, 16, 51), dtype=float32)\n"
     ]
    },
    {
     "data": {
      "text/markdown": [
       "**2025-07-04 23:45:31,844 - DEBUG - f02-02:lcb : Tensor(\"wukong/sequential/linear_compress_block/transpose_1:0\", shape=(32, 16, 51), dtype=float32)**"
      ],
      "text/plain": [
       "<IPython.core.display.Markdown object>"
      ]
     },
     "metadata": {},
     "output_type": "display_data"
    },
    {
     "data": {
      "text/markdown": [
       "**2025-07-04 23:45:31,844 - DEBUG - f02-02:lcb : Tensor(\"wukong/sequential/linear_compress_block/transpose_1:0\", shape=(32, 16, 51), dtype=float32)**"
      ],
      "text/plain": [
       "<IPython.core.display.Markdown object>"
      ]
     },
     "metadata": {},
     "output_type": "display_data"
    },
    {
     "name": "stderr",
     "output_type": "stream",
     "text": [
      "2025-07-04 23:45:31,844 - DEBUG - f02-02:lcb : Tensor(\"wukong/sequential/linear_compress_block/transpose_1:0\", shape=(32, 16, 51), dtype=float32)\n",
      "DEBUG:root:f02-02-01:inputs : Tensor(\"wukong/Reshape:0\", shape=(32, 102, 51), dtype=float32)\n"
     ]
    },
    {
     "data": {
      "text/markdown": [
       "**2025-07-04 23:45:31,861 - DEBUG - f02-02-01:inputs : Tensor(\"wukong/Reshape:0\", shape=(32, 102, 51), dtype=float32)**"
      ],
      "text/plain": [
       "<IPython.core.display.Markdown object>"
      ]
     },
     "metadata": {},
     "output_type": "display_data"
    },
    {
     "data": {
      "text/markdown": [
       "**2025-07-04 23:45:31,861 - DEBUG - f02-02-01:inputs : Tensor(\"wukong/Reshape:0\", shape=(32, 102, 51), dtype=float32)**"
      ],
      "text/plain": [
       "<IPython.core.display.Markdown object>"
      ]
     },
     "metadata": {},
     "output_type": "display_data"
    },
    {
     "name": "stderr",
     "output_type": "stream",
     "text": [
      "2025-07-04 23:45:31,861 - DEBUG - f02-02-01:inputs : Tensor(\"wukong/Reshape:0\", shape=(32, 102, 51), dtype=float32)\n",
      "DEBUG:root:f02-02-02:outputs : Tensor(\"wukong/sequential/factorization_machine_block/transpose:0\", shape=(32, 51, 102), dtype=float32)\n"
     ]
    },
    {
     "data": {
      "text/markdown": [
       "**2025-07-04 23:45:31,867 - DEBUG - f02-02-02:outputs : Tensor(\"wukong/sequential/factorization_machine_block/transpose:0\", shape=(32, 51, 102), dtype=float32)**"
      ],
      "text/plain": [
       "<IPython.core.display.Markdown object>"
      ]
     },
     "metadata": {},
     "output_type": "display_data"
    },
    {
     "data": {
      "text/markdown": [
       "**2025-07-04 23:45:31,867 - DEBUG - f02-02-02:outputs : Tensor(\"wukong/sequential/factorization_machine_block/transpose:0\", shape=(32, 51, 102), dtype=float32)**"
      ],
      "text/plain": [
       "<IPython.core.display.Markdown object>"
      ]
     },
     "metadata": {},
     "output_type": "display_data"
    },
    {
     "name": "stderr",
     "output_type": "stream",
     "text": [
      "2025-07-04 23:45:31,867 - DEBUG - f02-02-02:outputs : Tensor(\"wukong/sequential/factorization_machine_block/transpose:0\", shape=(32, 51, 102), dtype=float32)\n",
      "DEBUG:root:f02-02-03:outputs : Tensor(\"wukong/sequential/factorization_machine_block/Tensordot:0\", shape=(32, 51, 8), dtype=float32)\n"
     ]
    },
    {
     "data": {
      "text/markdown": [
       "**2025-07-04 23:45:31,881 - DEBUG - f02-02-03:outputs : Tensor(\"wukong/sequential/factorization_machine_block/Tensordot:0\", shape=(32, 51, 8), dtype=float32)**"
      ],
      "text/plain": [
       "<IPython.core.display.Markdown object>"
      ]
     },
     "metadata": {},
     "output_type": "display_data"
    },
    {
     "data": {
      "text/markdown": [
       "**2025-07-04 23:45:31,881 - DEBUG - f02-02-03:outputs : Tensor(\"wukong/sequential/factorization_machine_block/Tensordot:0\", shape=(32, 51, 8), dtype=float32)**"
      ],
      "text/plain": [
       "<IPython.core.display.Markdown object>"
      ]
     },
     "metadata": {},
     "output_type": "display_data"
    },
    {
     "name": "stderr",
     "output_type": "stream",
     "text": [
      "2025-07-04 23:45:31,881 - DEBUG - f02-02-03:outputs : Tensor(\"wukong/sequential/factorization_machine_block/Tensordot:0\", shape=(32, 51, 8), dtype=float32)\n",
      "DEBUG:root:f02-02-03-01:outputs : Tensor(\"wukong/sequential/factorization_machine_block/einsum/MatMul:0\", shape=(32, 102, 8), dtype=float32)\n"
     ]
    },
    {
     "data": {
      "text/markdown": [
       "**2025-07-04 23:45:31,885 - DEBUG - f02-02-03-01:outputs : Tensor(\"wukong/sequential/factorization_machine_block/einsum/MatMul:0\", shape=(32, 102, 8), dtype=float32)**"
      ],
      "text/plain": [
       "<IPython.core.display.Markdown object>"
      ]
     },
     "metadata": {},
     "output_type": "display_data"
    },
    {
     "data": {
      "text/markdown": [
       "**2025-07-04 23:45:31,885 - DEBUG - f02-02-03-01:outputs : Tensor(\"wukong/sequential/factorization_machine_block/einsum/MatMul:0\", shape=(32, 102, 8), dtype=float32)**"
      ],
      "text/plain": [
       "<IPython.core.display.Markdown object>"
      ]
     },
     "metadata": {},
     "output_type": "display_data"
    },
    {
     "name": "stderr",
     "output_type": "stream",
     "text": [
      "2025-07-04 23:45:31,885 - DEBUG - f02-02-03-01:outputs : Tensor(\"wukong/sequential/factorization_machine_block/einsum/MatMul:0\", shape=(32, 102, 8), dtype=float32)\n",
      "DEBUG:root:f02-02-03-02:num_emb_in : 102\n"
     ]
    },
    {
     "data": {
      "text/markdown": [
       "**2025-07-04 23:45:31,890 - DEBUG - f02-02-03-02:num_emb_in : 102**"
      ],
      "text/plain": [
       "<IPython.core.display.Markdown object>"
      ]
     },
     "metadata": {},
     "output_type": "display_data"
    },
    {
     "data": {
      "text/markdown": [
       "**2025-07-04 23:45:31,890 - DEBUG - f02-02-03-02:num_emb_in : 102**"
      ],
      "text/plain": [
       "<IPython.core.display.Markdown object>"
      ]
     },
     "metadata": {},
     "output_type": "display_data"
    },
    {
     "name": "stderr",
     "output_type": "stream",
     "text": [
      "2025-07-04 23:45:31,890 - DEBUG - f02-02-03-02:num_emb_in : 102\n",
      "DEBUG:root:f02-02-03-03:rank : 8\n"
     ]
    },
    {
     "data": {
      "text/markdown": [
       "**2025-07-04 23:45:31,893 - DEBUG - f02-02-03-03:rank : 8**"
      ],
      "text/plain": [
       "<IPython.core.display.Markdown object>"
      ]
     },
     "metadata": {},
     "output_type": "display_data"
    },
    {
     "data": {
      "text/markdown": [
       "**2025-07-04 23:45:31,893 - DEBUG - f02-02-03-03:rank : 8**"
      ],
      "text/plain": [
       "<IPython.core.display.Markdown object>"
      ]
     },
     "metadata": {},
     "output_type": "display_data"
    },
    {
     "name": "stderr",
     "output_type": "stream",
     "text": [
      "2025-07-04 23:45:31,893 - DEBUG - f02-02-03-03:rank : 8\n",
      "DEBUG:root:f02-02-04:outputs : Tensor(\"wukong/sequential/factorization_machine_block/Reshape:0\", shape=(32, 816), dtype=float32)\n"
     ]
    },
    {
     "data": {
      "text/markdown": [
       "**2025-07-04 23:45:31,896 - DEBUG - f02-02-04:outputs : Tensor(\"wukong/sequential/factorization_machine_block/Reshape:0\", shape=(32, 816), dtype=float32)**"
      ],
      "text/plain": [
       "<IPython.core.display.Markdown object>"
      ]
     },
     "metadata": {},
     "output_type": "display_data"
    },
    {
     "data": {
      "text/markdown": [
       "**2025-07-04 23:45:31,896 - DEBUG - f02-02-04:outputs : Tensor(\"wukong/sequential/factorization_machine_block/Reshape:0\", shape=(32, 816), dtype=float32)**"
      ],
      "text/plain": [
       "<IPython.core.display.Markdown object>"
      ]
     },
     "metadata": {},
     "output_type": "display_data"
    },
    {
     "name": "stderr",
     "output_type": "stream",
     "text": [
      "2025-07-04 23:45:31,896 - DEBUG - f02-02-04:outputs : Tensor(\"wukong/sequential/factorization_machine_block/Reshape:0\", shape=(32, 816), dtype=float32)\n",
      "DEBUG:root:f02-02-05:outputs : Tensor(\"wukong/sequential/factorization_machine_block/Reshape:0\", shape=(32, 816), dtype=float32)\n"
     ]
    },
    {
     "data": {
      "text/markdown": [
       "**2025-07-04 23:45:31,899 - DEBUG - f02-02-05:outputs : Tensor(\"wukong/sequential/factorization_machine_block/Reshape:0\", shape=(32, 816), dtype=float32)**"
      ],
      "text/plain": [
       "<IPython.core.display.Markdown object>"
      ]
     },
     "metadata": {},
     "output_type": "display_data"
    },
    {
     "data": {
      "text/markdown": [
       "**2025-07-04 23:45:31,899 - DEBUG - f02-02-05:outputs : Tensor(\"wukong/sequential/factorization_machine_block/Reshape:0\", shape=(32, 816), dtype=float32)**"
      ],
      "text/plain": [
       "<IPython.core.display.Markdown object>"
      ]
     },
     "metadata": {},
     "output_type": "display_data"
    },
    {
     "name": "stderr",
     "output_type": "stream",
     "text": [
      "2025-07-04 23:45:31,899 - DEBUG - f02-02-05:outputs : Tensor(\"wukong/sequential/factorization_machine_block/Reshape:0\", shape=(32, 816), dtype=float32)\n",
      "DEBUG:root:f02-02-06:outputs : Tensor(\"wukong/sequential/factorization_machine_block/mlp_1/dense_6/BiasAdd:0\", shape=(32, 816), dtype=float32)\n"
     ]
    },
    {
     "data": {
      "text/markdown": [
       "**2025-07-04 23:45:32,019 - DEBUG - f02-02-06:outputs : Tensor(\"wukong/sequential/factorization_machine_block/mlp_1/dense_6/BiasAdd:0\", shape=(32, 816), dtype=float32)**"
      ],
      "text/plain": [
       "<IPython.core.display.Markdown object>"
      ]
     },
     "metadata": {},
     "output_type": "display_data"
    },
    {
     "data": {
      "text/markdown": [
       "**2025-07-04 23:45:32,019 - DEBUG - f02-02-06:outputs : Tensor(\"wukong/sequential/factorization_machine_block/mlp_1/dense_6/BiasAdd:0\", shape=(32, 816), dtype=float32)**"
      ],
      "text/plain": [
       "<IPython.core.display.Markdown object>"
      ]
     },
     "metadata": {},
     "output_type": "display_data"
    },
    {
     "name": "stderr",
     "output_type": "stream",
     "text": [
      "2025-07-04 23:45:32,019 - DEBUG - f02-02-06:outputs : Tensor(\"wukong/sequential/factorization_machine_block/mlp_1/dense_6/BiasAdd:0\", shape=(32, 816), dtype=float32)\n",
      "DEBUG:root:f02-02-07:outputs : Tensor(\"wukong/sequential/factorization_machine_block/Reshape_1:0\", shape=(32, 16, 51), dtype=float32)\n"
     ]
    },
    {
     "data": {
      "text/markdown": [
       "**2025-07-04 23:45:32,024 - DEBUG - f02-02-07:outputs : Tensor(\"wukong/sequential/factorization_machine_block/Reshape_1:0\", shape=(32, 16, 51), dtype=float32)**"
      ],
      "text/plain": [
       "<IPython.core.display.Markdown object>"
      ]
     },
     "metadata": {},
     "output_type": "display_data"
    },
    {
     "data": {
      "text/markdown": [
       "**2025-07-04 23:45:32,024 - DEBUG - f02-02-07:outputs : Tensor(\"wukong/sequential/factorization_machine_block/Reshape_1:0\", shape=(32, 16, 51), dtype=float32)**"
      ],
      "text/plain": [
       "<IPython.core.display.Markdown object>"
      ]
     },
     "metadata": {},
     "output_type": "display_data"
    },
    {
     "name": "stderr",
     "output_type": "stream",
     "text": [
      "2025-07-04 23:45:32,024 - DEBUG - f02-02-07:outputs : Tensor(\"wukong/sequential/factorization_machine_block/Reshape_1:0\", shape=(32, 16, 51), dtype=float32)\n",
      "DEBUG:root:f02-03:fmb : Tensor(\"wukong/sequential/factorization_machine_block/Reshape_1:0\", shape=(32, 16, 51), dtype=float32)\n"
     ]
    },
    {
     "data": {
      "text/markdown": [
       "**2025-07-04 23:45:32,027 - DEBUG - f02-03:fmb : Tensor(\"wukong/sequential/factorization_machine_block/Reshape_1:0\", shape=(32, 16, 51), dtype=float32)**"
      ],
      "text/plain": [
       "<IPython.core.display.Markdown object>"
      ]
     },
     "metadata": {},
     "output_type": "display_data"
    },
    {
     "data": {
      "text/markdown": [
       "**2025-07-04 23:45:32,027 - DEBUG - f02-03:fmb : Tensor(\"wukong/sequential/factorization_machine_block/Reshape_1:0\", shape=(32, 16, 51), dtype=float32)**"
      ],
      "text/plain": [
       "<IPython.core.display.Markdown object>"
      ]
     },
     "metadata": {},
     "output_type": "display_data"
    },
    {
     "name": "stderr",
     "output_type": "stream",
     "text": [
      "2025-07-04 23:45:32,027 - DEBUG - f02-03:fmb : Tensor(\"wukong/sequential/factorization_machine_block/Reshape_1:0\", shape=(32, 16, 51), dtype=float32)\n",
      "DEBUG:root:f02-04:outputs : Tensor(\"wukong/sequential/concat:0\", shape=(32, 32, 51), dtype=float32)\n"
     ]
    },
    {
     "data": {
      "text/markdown": [
       "**2025-07-04 23:45:32,032 - DEBUG - f02-04:outputs : Tensor(\"wukong/sequential/concat:0\", shape=(32, 32, 51), dtype=float32)**"
      ],
      "text/plain": [
       "<IPython.core.display.Markdown object>"
      ]
     },
     "metadata": {},
     "output_type": "display_data"
    },
    {
     "data": {
      "text/markdown": [
       "**2025-07-04 23:45:32,032 - DEBUG - f02-04:outputs : Tensor(\"wukong/sequential/concat:0\", shape=(32, 32, 51), dtype=float32)**"
      ],
      "text/plain": [
       "<IPython.core.display.Markdown object>"
      ]
     },
     "metadata": {},
     "output_type": "display_data"
    },
    {
     "name": "stderr",
     "output_type": "stream",
     "text": [
      "2025-07-04 23:45:32,032 - DEBUG - f02-04:outputs : Tensor(\"wukong/sequential/concat:0\", shape=(32, 32, 51), dtype=float32)\n",
      "DEBUG:root:f02-04-01:inputs : Tensor(\"wukong/Reshape:0\", shape=(32, 102, 51), dtype=float32)\n"
     ]
    },
    {
     "data": {
      "text/markdown": [
       "**2025-07-04 23:45:32,046 - DEBUG - f02-04-01:inputs : Tensor(\"wukong/Reshape:0\", shape=(32, 102, 51), dtype=float32)**"
      ],
      "text/plain": [
       "<IPython.core.display.Markdown object>"
      ]
     },
     "metadata": {},
     "output_type": "display_data"
    },
    {
     "data": {
      "text/markdown": [
       "**2025-07-04 23:45:32,046 - DEBUG - f02-04-01:inputs : Tensor(\"wukong/Reshape:0\", shape=(32, 102, 51), dtype=float32)**"
      ],
      "text/plain": [
       "<IPython.core.display.Markdown object>"
      ]
     },
     "metadata": {},
     "output_type": "display_data"
    },
    {
     "name": "stderr",
     "output_type": "stream",
     "text": [
      "2025-07-04 23:45:32,046 - DEBUG - f02-04-01:inputs : Tensor(\"wukong/Reshape:0\", shape=(32, 102, 51), dtype=float32)\n",
      "DEBUG:root:f02-04-02:outputs : Tensor(\"wukong/sequential/residual_projection/transpose:0\", shape=(32, 51, 102), dtype=float32)\n"
     ]
    },
    {
     "data": {
      "text/markdown": [
       "**2025-07-04 23:45:32,052 - DEBUG - f02-04-02:outputs : Tensor(\"wukong/sequential/residual_projection/transpose:0\", shape=(32, 51, 102), dtype=float32)**"
      ],
      "text/plain": [
       "<IPython.core.display.Markdown object>"
      ]
     },
     "metadata": {},
     "output_type": "display_data"
    },
    {
     "data": {
      "text/markdown": [
       "**2025-07-04 23:45:32,052 - DEBUG - f02-04-02:outputs : Tensor(\"wukong/sequential/residual_projection/transpose:0\", shape=(32, 51, 102), dtype=float32)**"
      ],
      "text/plain": [
       "<IPython.core.display.Markdown object>"
      ]
     },
     "metadata": {},
     "output_type": "display_data"
    },
    {
     "name": "stderr",
     "output_type": "stream",
     "text": [
      "2025-07-04 23:45:32,052 - DEBUG - f02-04-02:outputs : Tensor(\"wukong/sequential/residual_projection/transpose:0\", shape=(32, 51, 102), dtype=float32)\n",
      "DEBUG:root:f02-04-03:outputs : Tensor(\"wukong/sequential/residual_projection/Tensordot:0\", shape=(32, 51, 32), dtype=float32)\n"
     ]
    },
    {
     "data": {
      "text/markdown": [
       "**2025-07-04 23:45:32,065 - DEBUG - f02-04-03:outputs : Tensor(\"wukong/sequential/residual_projection/Tensordot:0\", shape=(32, 51, 32), dtype=float32)**"
      ],
      "text/plain": [
       "<IPython.core.display.Markdown object>"
      ]
     },
     "metadata": {},
     "output_type": "display_data"
    },
    {
     "data": {
      "text/markdown": [
       "**2025-07-04 23:45:32,065 - DEBUG - f02-04-03:outputs : Tensor(\"wukong/sequential/residual_projection/Tensordot:0\", shape=(32, 51, 32), dtype=float32)**"
      ],
      "text/plain": [
       "<IPython.core.display.Markdown object>"
      ]
     },
     "metadata": {},
     "output_type": "display_data"
    },
    {
     "name": "stderr",
     "output_type": "stream",
     "text": [
      "2025-07-04 23:45:32,065 - DEBUG - f02-04-03:outputs : Tensor(\"wukong/sequential/residual_projection/Tensordot:0\", shape=(32, 51, 32), dtype=float32)\n",
      "DEBUG:root:f02-04-04:outputs : Tensor(\"wukong/sequential/residual_projection/transpose_1:0\", shape=(32, 32, 51), dtype=float32)\n"
     ]
    },
    {
     "data": {
      "text/markdown": [
       "**2025-07-04 23:45:32,070 - DEBUG - f02-04-04:outputs : Tensor(\"wukong/sequential/residual_projection/transpose_1:0\", shape=(32, 32, 51), dtype=float32)**"
      ],
      "text/plain": [
       "<IPython.core.display.Markdown object>"
      ]
     },
     "metadata": {},
     "output_type": "display_data"
    },
    {
     "data": {
      "text/markdown": [
       "**2025-07-04 23:45:32,070 - DEBUG - f02-04-04:outputs : Tensor(\"wukong/sequential/residual_projection/transpose_1:0\", shape=(32, 32, 51), dtype=float32)**"
      ],
      "text/plain": [
       "<IPython.core.display.Markdown object>"
      ]
     },
     "metadata": {},
     "output_type": "display_data"
    },
    {
     "name": "stderr",
     "output_type": "stream",
     "text": [
      "2025-07-04 23:45:32,070 - DEBUG - f02-04-04:outputs : Tensor(\"wukong/sequential/residual_projection/transpose_1:0\", shape=(32, 32, 51), dtype=float32)\n",
      "DEBUG:root:f02-05-01:outputs : Tensor(\"wukong/sequential/concat:0\", shape=(32, 32, 51), dtype=float32)\n"
     ]
    },
    {
     "data": {
      "text/markdown": [
       "**2025-07-04 23:45:32,073 - DEBUG - f02-05-01:outputs : Tensor(\"wukong/sequential/concat:0\", shape=(32, 32, 51), dtype=float32)**"
      ],
      "text/plain": [
       "<IPython.core.display.Markdown object>"
      ]
     },
     "metadata": {},
     "output_type": "display_data"
    },
    {
     "data": {
      "text/markdown": [
       "**2025-07-04 23:45:32,073 - DEBUG - f02-05-01:outputs : Tensor(\"wukong/sequential/concat:0\", shape=(32, 32, 51), dtype=float32)**"
      ],
      "text/plain": [
       "<IPython.core.display.Markdown object>"
      ]
     },
     "metadata": {},
     "output_type": "display_data"
    },
    {
     "name": "stderr",
     "output_type": "stream",
     "text": [
      "2025-07-04 23:45:32,073 - DEBUG - f02-05-01:outputs : Tensor(\"wukong/sequential/concat:0\", shape=(32, 32, 51), dtype=float32)\n",
      "DEBUG:root:f02-05-02:residual_res : Tensor(\"wukong/sequential/residual_projection/transpose_1:0\", shape=(32, 32, 51), dtype=float32)\n"
     ]
    },
    {
     "data": {
      "text/markdown": [
       "**2025-07-04 23:45:32,076 - DEBUG - f02-05-02:residual_res : Tensor(\"wukong/sequential/residual_projection/transpose_1:0\", shape=(32, 32, 51), dtype=float32)**"
      ],
      "text/plain": [
       "<IPython.core.display.Markdown object>"
      ]
     },
     "metadata": {},
     "output_type": "display_data"
    },
    {
     "data": {
      "text/markdown": [
       "**2025-07-04 23:45:32,076 - DEBUG - f02-05-02:residual_res : Tensor(\"wukong/sequential/residual_projection/transpose_1:0\", shape=(32, 32, 51), dtype=float32)**"
      ],
      "text/plain": [
       "<IPython.core.display.Markdown object>"
      ]
     },
     "metadata": {},
     "output_type": "display_data"
    },
    {
     "name": "stderr",
     "output_type": "stream",
     "text": [
      "2025-07-04 23:45:32,076 - DEBUG - f02-05-02:residual_res : Tensor(\"wukong/sequential/residual_projection/transpose_1:0\", shape=(32, 32, 51), dtype=float32)\n",
      "DEBUG:root:f02-05:outputs : Tensor(\"wukong/sequential/layer_normalization/add_1:0\", shape=(32, 32, 51), dtype=float32)\n"
     ]
    },
    {
     "data": {
      "text/markdown": [
       "**2025-07-04 23:45:32,101 - DEBUG - f02-05:outputs : Tensor(\"wukong/sequential/layer_normalization/add_1:0\", shape=(32, 32, 51), dtype=float32)**"
      ],
      "text/plain": [
       "<IPython.core.display.Markdown object>"
      ]
     },
     "metadata": {},
     "output_type": "display_data"
    },
    {
     "data": {
      "text/markdown": [
       "**2025-07-04 23:45:32,101 - DEBUG - f02-05:outputs : Tensor(\"wukong/sequential/layer_normalization/add_1:0\", shape=(32, 32, 51), dtype=float32)**"
      ],
      "text/plain": [
       "<IPython.core.display.Markdown object>"
      ]
     },
     "metadata": {},
     "output_type": "display_data"
    },
    {
     "name": "stderr",
     "output_type": "stream",
     "text": [
      "2025-07-04 23:45:32,101 - DEBUG - f02-05:outputs : Tensor(\"wukong/sequential/layer_normalization/add_1:0\", shape=(32, 32, 51), dtype=float32)\n",
      "DEBUG:root:f02-01:inputs : Tensor(\"wukong/sequential/layer_normalization/add_1:0\", shape=(32, 32, 51), dtype=float32)\n"
     ]
    },
    {
     "data": {
      "text/markdown": [
       "**2025-07-04 23:45:32,105 - DEBUG - f02-01:inputs : Tensor(\"wukong/sequential/layer_normalization/add_1:0\", shape=(32, 32, 51), dtype=float32)**"
      ],
      "text/plain": [
       "<IPython.core.display.Markdown object>"
      ]
     },
     "metadata": {},
     "output_type": "display_data"
    },
    {
     "data": {
      "text/markdown": [
       "**2025-07-04 23:45:32,105 - DEBUG - f02-01:inputs : Tensor(\"wukong/sequential/layer_normalization/add_1:0\", shape=(32, 32, 51), dtype=float32)**"
      ],
      "text/plain": [
       "<IPython.core.display.Markdown object>"
      ]
     },
     "metadata": {},
     "output_type": "display_data"
    },
    {
     "name": "stderr",
     "output_type": "stream",
     "text": [
      "2025-07-04 23:45:32,105 - DEBUG - f02-01:inputs : Tensor(\"wukong/sequential/layer_normalization/add_1:0\", shape=(32, 32, 51), dtype=float32)\n",
      "DEBUG:root:f02-01-01:inputs : Tensor(\"wukong/sequential/layer_normalization/add_1:0\", shape=(32, 32, 51), dtype=float32)\n"
     ]
    },
    {
     "data": {
      "text/markdown": [
       "**2025-07-04 23:45:32,120 - DEBUG - f02-01-01:inputs : Tensor(\"wukong/sequential/layer_normalization/add_1:0\", shape=(32, 32, 51), dtype=float32)**"
      ],
      "text/plain": [
       "<IPython.core.display.Markdown object>"
      ]
     },
     "metadata": {},
     "output_type": "display_data"
    },
    {
     "data": {
      "text/markdown": [
       "**2025-07-04 23:45:32,120 - DEBUG - f02-01-01:inputs : Tensor(\"wukong/sequential/layer_normalization/add_1:0\", shape=(32, 32, 51), dtype=float32)**"
      ],
      "text/plain": [
       "<IPython.core.display.Markdown object>"
      ]
     },
     "metadata": {},
     "output_type": "display_data"
    },
    {
     "name": "stderr",
     "output_type": "stream",
     "text": [
      "2025-07-04 23:45:32,120 - DEBUG - f02-01-01:inputs : Tensor(\"wukong/sequential/layer_normalization/add_1:0\", shape=(32, 32, 51), dtype=float32)\n",
      "DEBUG:root:f02-01-02:outputs : Tensor(\"wukong/sequential/linear_compress_block_1/transpose:0\", shape=(32, 51, 32), dtype=float32)\n"
     ]
    },
    {
     "data": {
      "text/markdown": [
       "**2025-07-04 23:45:32,125 - DEBUG - f02-01-02:outputs : Tensor(\"wukong/sequential/linear_compress_block_1/transpose:0\", shape=(32, 51, 32), dtype=float32)**"
      ],
      "text/plain": [
       "<IPython.core.display.Markdown object>"
      ]
     },
     "metadata": {},
     "output_type": "display_data"
    },
    {
     "data": {
      "text/markdown": [
       "**2025-07-04 23:45:32,125 - DEBUG - f02-01-02:outputs : Tensor(\"wukong/sequential/linear_compress_block_1/transpose:0\", shape=(32, 51, 32), dtype=float32)**"
      ],
      "text/plain": [
       "<IPython.core.display.Markdown object>"
      ]
     },
     "metadata": {},
     "output_type": "display_data"
    },
    {
     "name": "stderr",
     "output_type": "stream",
     "text": [
      "2025-07-04 23:45:32,125 - DEBUG - f02-01-02:outputs : Tensor(\"wukong/sequential/linear_compress_block_1/transpose:0\", shape=(32, 51, 32), dtype=float32)\n",
      "DEBUG:root:f02-01-03:outputs : Tensor(\"wukong/sequential/linear_compress_block_1/Tensordot:0\", shape=(32, 51, 16), dtype=float32)\n"
     ]
    },
    {
     "data": {
      "text/markdown": [
       "**2025-07-04 23:45:32,137 - DEBUG - f02-01-03:outputs : Tensor(\"wukong/sequential/linear_compress_block_1/Tensordot:0\", shape=(32, 51, 16), dtype=float32)**"
      ],
      "text/plain": [
       "<IPython.core.display.Markdown object>"
      ]
     },
     "metadata": {},
     "output_type": "display_data"
    },
    {
     "data": {
      "text/markdown": [
       "**2025-07-04 23:45:32,137 - DEBUG - f02-01-03:outputs : Tensor(\"wukong/sequential/linear_compress_block_1/Tensordot:0\", shape=(32, 51, 16), dtype=float32)**"
      ],
      "text/plain": [
       "<IPython.core.display.Markdown object>"
      ]
     },
     "metadata": {},
     "output_type": "display_data"
    },
    {
     "name": "stderr",
     "output_type": "stream",
     "text": [
      "2025-07-04 23:45:32,137 - DEBUG - f02-01-03:outputs : Tensor(\"wukong/sequential/linear_compress_block_1/Tensordot:0\", shape=(32, 51, 16), dtype=float32)\n",
      "DEBUG:root:f02-01-04:outputs : Tensor(\"wukong/sequential/linear_compress_block_1/transpose_1:0\", shape=(32, 16, 51), dtype=float32)\n"
     ]
    },
    {
     "data": {
      "text/markdown": [
       "**2025-07-04 23:45:32,142 - DEBUG - f02-01-04:outputs : Tensor(\"wukong/sequential/linear_compress_block_1/transpose_1:0\", shape=(32, 16, 51), dtype=float32)**"
      ],
      "text/plain": [
       "<IPython.core.display.Markdown object>"
      ]
     },
     "metadata": {},
     "output_type": "display_data"
    },
    {
     "data": {
      "text/markdown": [
       "**2025-07-04 23:45:32,142 - DEBUG - f02-01-04:outputs : Tensor(\"wukong/sequential/linear_compress_block_1/transpose_1:0\", shape=(32, 16, 51), dtype=float32)**"
      ],
      "text/plain": [
       "<IPython.core.display.Markdown object>"
      ]
     },
     "metadata": {},
     "output_type": "display_data"
    },
    {
     "name": "stderr",
     "output_type": "stream",
     "text": [
      "2025-07-04 23:45:32,142 - DEBUG - f02-01-04:outputs : Tensor(\"wukong/sequential/linear_compress_block_1/transpose_1:0\", shape=(32, 16, 51), dtype=float32)\n",
      "DEBUG:root:f02-02:lcb : Tensor(\"wukong/sequential/linear_compress_block_1/transpose_1:0\", shape=(32, 16, 51), dtype=float32)\n"
     ]
    },
    {
     "data": {
      "text/markdown": [
       "**2025-07-04 23:45:32,146 - DEBUG - f02-02:lcb : Tensor(\"wukong/sequential/linear_compress_block_1/transpose_1:0\", shape=(32, 16, 51), dtype=float32)**"
      ],
      "text/plain": [
       "<IPython.core.display.Markdown object>"
      ]
     },
     "metadata": {},
     "output_type": "display_data"
    },
    {
     "data": {
      "text/markdown": [
       "**2025-07-04 23:45:32,146 - DEBUG - f02-02:lcb : Tensor(\"wukong/sequential/linear_compress_block_1/transpose_1:0\", shape=(32, 16, 51), dtype=float32)**"
      ],
      "text/plain": [
       "<IPython.core.display.Markdown object>"
      ]
     },
     "metadata": {},
     "output_type": "display_data"
    },
    {
     "name": "stderr",
     "output_type": "stream",
     "text": [
      "2025-07-04 23:45:32,146 - DEBUG - f02-02:lcb : Tensor(\"wukong/sequential/linear_compress_block_1/transpose_1:0\", shape=(32, 16, 51), dtype=float32)\n",
      "DEBUG:root:f02-02-01:inputs : Tensor(\"wukong/sequential/layer_normalization/add_1:0\", shape=(32, 32, 51), dtype=float32)\n"
     ]
    },
    {
     "data": {
      "text/markdown": [
       "**2025-07-04 23:45:32,161 - DEBUG - f02-02-01:inputs : Tensor(\"wukong/sequential/layer_normalization/add_1:0\", shape=(32, 32, 51), dtype=float32)**"
      ],
      "text/plain": [
       "<IPython.core.display.Markdown object>"
      ]
     },
     "metadata": {},
     "output_type": "display_data"
    },
    {
     "data": {
      "text/markdown": [
       "**2025-07-04 23:45:32,161 - DEBUG - f02-02-01:inputs : Tensor(\"wukong/sequential/layer_normalization/add_1:0\", shape=(32, 32, 51), dtype=float32)**"
      ],
      "text/plain": [
       "<IPython.core.display.Markdown object>"
      ]
     },
     "metadata": {},
     "output_type": "display_data"
    },
    {
     "name": "stderr",
     "output_type": "stream",
     "text": [
      "2025-07-04 23:45:32,161 - DEBUG - f02-02-01:inputs : Tensor(\"wukong/sequential/layer_normalization/add_1:0\", shape=(32, 32, 51), dtype=float32)\n",
      "DEBUG:root:f02-02-02:outputs : Tensor(\"wukong/sequential/factorization_machine_block_1/transpose:0\", shape=(32, 51, 32), dtype=float32)\n"
     ]
    },
    {
     "data": {
      "text/markdown": [
       "**2025-07-04 23:45:32,166 - DEBUG - f02-02-02:outputs : Tensor(\"wukong/sequential/factorization_machine_block_1/transpose:0\", shape=(32, 51, 32), dtype=float32)**"
      ],
      "text/plain": [
       "<IPython.core.display.Markdown object>"
      ]
     },
     "metadata": {},
     "output_type": "display_data"
    },
    {
     "data": {
      "text/markdown": [
       "**2025-07-04 23:45:32,166 - DEBUG - f02-02-02:outputs : Tensor(\"wukong/sequential/factorization_machine_block_1/transpose:0\", shape=(32, 51, 32), dtype=float32)**"
      ],
      "text/plain": [
       "<IPython.core.display.Markdown object>"
      ]
     },
     "metadata": {},
     "output_type": "display_data"
    },
    {
     "name": "stderr",
     "output_type": "stream",
     "text": [
      "2025-07-04 23:45:32,166 - DEBUG - f02-02-02:outputs : Tensor(\"wukong/sequential/factorization_machine_block_1/transpose:0\", shape=(32, 51, 32), dtype=float32)\n",
      "DEBUG:root:f02-02-03:outputs : Tensor(\"wukong/sequential/factorization_machine_block_1/Tensordot:0\", shape=(32, 51, 8), dtype=float32)\n"
     ]
    },
    {
     "data": {
      "text/markdown": [
       "**2025-07-04 23:45:32,180 - DEBUG - f02-02-03:outputs : Tensor(\"wukong/sequential/factorization_machine_block_1/Tensordot:0\", shape=(32, 51, 8), dtype=float32)**"
      ],
      "text/plain": [
       "<IPython.core.display.Markdown object>"
      ]
     },
     "metadata": {},
     "output_type": "display_data"
    },
    {
     "data": {
      "text/markdown": [
       "**2025-07-04 23:45:32,180 - DEBUG - f02-02-03:outputs : Tensor(\"wukong/sequential/factorization_machine_block_1/Tensordot:0\", shape=(32, 51, 8), dtype=float32)**"
      ],
      "text/plain": [
       "<IPython.core.display.Markdown object>"
      ]
     },
     "metadata": {},
     "output_type": "display_data"
    },
    {
     "name": "stderr",
     "output_type": "stream",
     "text": [
      "2025-07-04 23:45:32,180 - DEBUG - f02-02-03:outputs : Tensor(\"wukong/sequential/factorization_machine_block_1/Tensordot:0\", shape=(32, 51, 8), dtype=float32)\n",
      "DEBUG:root:f02-02-03-01:outputs : Tensor(\"wukong/sequential/factorization_machine_block_1/einsum/MatMul:0\", shape=(32, 32, 8), dtype=float32)\n"
     ]
    },
    {
     "data": {
      "text/markdown": [
       "**2025-07-04 23:45:32,184 - DEBUG - f02-02-03-01:outputs : Tensor(\"wukong/sequential/factorization_machine_block_1/einsum/MatMul:0\", shape=(32, 32, 8), dtype=float32)**"
      ],
      "text/plain": [
       "<IPython.core.display.Markdown object>"
      ]
     },
     "metadata": {},
     "output_type": "display_data"
    },
    {
     "data": {
      "text/markdown": [
       "**2025-07-04 23:45:32,184 - DEBUG - f02-02-03-01:outputs : Tensor(\"wukong/sequential/factorization_machine_block_1/einsum/MatMul:0\", shape=(32, 32, 8), dtype=float32)**"
      ],
      "text/plain": [
       "<IPython.core.display.Markdown object>"
      ]
     },
     "metadata": {},
     "output_type": "display_data"
    },
    {
     "name": "stderr",
     "output_type": "stream",
     "text": [
      "2025-07-04 23:45:32,184 - DEBUG - f02-02-03-01:outputs : Tensor(\"wukong/sequential/factorization_machine_block_1/einsum/MatMul:0\", shape=(32, 32, 8), dtype=float32)\n",
      "DEBUG:root:f02-02-03-02:num_emb_in : 32\n"
     ]
    },
    {
     "data": {
      "text/markdown": [
       "**2025-07-04 23:45:32,189 - DEBUG - f02-02-03-02:num_emb_in : 32**"
      ],
      "text/plain": [
       "<IPython.core.display.Markdown object>"
      ]
     },
     "metadata": {},
     "output_type": "display_data"
    },
    {
     "data": {
      "text/markdown": [
       "**2025-07-04 23:45:32,189 - DEBUG - f02-02-03-02:num_emb_in : 32**"
      ],
      "text/plain": [
       "<IPython.core.display.Markdown object>"
      ]
     },
     "metadata": {},
     "output_type": "display_data"
    },
    {
     "name": "stderr",
     "output_type": "stream",
     "text": [
      "2025-07-04 23:45:32,189 - DEBUG - f02-02-03-02:num_emb_in : 32\n",
      "DEBUG:root:f02-02-03-03:rank : 8\n"
     ]
    },
    {
     "data": {
      "text/markdown": [
       "**2025-07-04 23:45:32,192 - DEBUG - f02-02-03-03:rank : 8**"
      ],
      "text/plain": [
       "<IPython.core.display.Markdown object>"
      ]
     },
     "metadata": {},
     "output_type": "display_data"
    },
    {
     "data": {
      "text/markdown": [
       "**2025-07-04 23:45:32,192 - DEBUG - f02-02-03-03:rank : 8**"
      ],
      "text/plain": [
       "<IPython.core.display.Markdown object>"
      ]
     },
     "metadata": {},
     "output_type": "display_data"
    },
    {
     "name": "stderr",
     "output_type": "stream",
     "text": [
      "2025-07-04 23:45:32,192 - DEBUG - f02-02-03-03:rank : 8\n",
      "DEBUG:root:f02-02-04:outputs : Tensor(\"wukong/sequential/factorization_machine_block_1/Reshape:0\", shape=(32, 256), dtype=float32)\n"
     ]
    },
    {
     "data": {
      "text/markdown": [
       "**2025-07-04 23:45:32,195 - DEBUG - f02-02-04:outputs : Tensor(\"wukong/sequential/factorization_machine_block_1/Reshape:0\", shape=(32, 256), dtype=float32)**"
      ],
      "text/plain": [
       "<IPython.core.display.Markdown object>"
      ]
     },
     "metadata": {},
     "output_type": "display_data"
    },
    {
     "data": {
      "text/markdown": [
       "**2025-07-04 23:45:32,195 - DEBUG - f02-02-04:outputs : Tensor(\"wukong/sequential/factorization_machine_block_1/Reshape:0\", shape=(32, 256), dtype=float32)**"
      ],
      "text/plain": [
       "<IPython.core.display.Markdown object>"
      ]
     },
     "metadata": {},
     "output_type": "display_data"
    },
    {
     "name": "stderr",
     "output_type": "stream",
     "text": [
      "2025-07-04 23:45:32,195 - DEBUG - f02-02-04:outputs : Tensor(\"wukong/sequential/factorization_machine_block_1/Reshape:0\", shape=(32, 256), dtype=float32)\n",
      "DEBUG:root:f02-02-05:outputs : Tensor(\"wukong/sequential/factorization_machine_block_1/Reshape:0\", shape=(32, 256), dtype=float32)\n"
     ]
    },
    {
     "data": {
      "text/markdown": [
       "**2025-07-04 23:45:32,198 - DEBUG - f02-02-05:outputs : Tensor(\"wukong/sequential/factorization_machine_block_1/Reshape:0\", shape=(32, 256), dtype=float32)**"
      ],
      "text/plain": [
       "<IPython.core.display.Markdown object>"
      ]
     },
     "metadata": {},
     "output_type": "display_data"
    },
    {
     "data": {
      "text/markdown": [
       "**2025-07-04 23:45:32,198 - DEBUG - f02-02-05:outputs : Tensor(\"wukong/sequential/factorization_machine_block_1/Reshape:0\", shape=(32, 256), dtype=float32)**"
      ],
      "text/plain": [
       "<IPython.core.display.Markdown object>"
      ]
     },
     "metadata": {},
     "output_type": "display_data"
    },
    {
     "name": "stderr",
     "output_type": "stream",
     "text": [
      "2025-07-04 23:45:32,198 - DEBUG - f02-02-05:outputs : Tensor(\"wukong/sequential/factorization_machine_block_1/Reshape:0\", shape=(32, 256), dtype=float32)\n",
      "DEBUG:root:f02-02-06:outputs : Tensor(\"wukong/sequential/factorization_machine_block_1/mlp_2/dense_9/BiasAdd:0\", shape=(32, 816), dtype=float32)\n"
     ]
    },
    {
     "data": {
      "text/markdown": [
       "**2025-07-04 23:45:32,313 - DEBUG - f02-02-06:outputs : Tensor(\"wukong/sequential/factorization_machine_block_1/mlp_2/dense_9/BiasAdd:0\", shape=(32, 816), dtype=float32)**"
      ],
      "text/plain": [
       "<IPython.core.display.Markdown object>"
      ]
     },
     "metadata": {},
     "output_type": "display_data"
    },
    {
     "data": {
      "text/markdown": [
       "**2025-07-04 23:45:32,313 - DEBUG - f02-02-06:outputs : Tensor(\"wukong/sequential/factorization_machine_block_1/mlp_2/dense_9/BiasAdd:0\", shape=(32, 816), dtype=float32)**"
      ],
      "text/plain": [
       "<IPython.core.display.Markdown object>"
      ]
     },
     "metadata": {},
     "output_type": "display_data"
    },
    {
     "name": "stderr",
     "output_type": "stream",
     "text": [
      "2025-07-04 23:45:32,313 - DEBUG - f02-02-06:outputs : Tensor(\"wukong/sequential/factorization_machine_block_1/mlp_2/dense_9/BiasAdd:0\", shape=(32, 816), dtype=float32)\n",
      "DEBUG:root:f02-02-07:outputs : Tensor(\"wukong/sequential/factorization_machine_block_1/Reshape_1:0\", shape=(32, 16, 51), dtype=float32)\n"
     ]
    },
    {
     "data": {
      "text/markdown": [
       "**2025-07-04 23:45:32,319 - DEBUG - f02-02-07:outputs : Tensor(\"wukong/sequential/factorization_machine_block_1/Reshape_1:0\", shape=(32, 16, 51), dtype=float32)**"
      ],
      "text/plain": [
       "<IPython.core.display.Markdown object>"
      ]
     },
     "metadata": {},
     "output_type": "display_data"
    },
    {
     "data": {
      "text/markdown": [
       "**2025-07-04 23:45:32,319 - DEBUG - f02-02-07:outputs : Tensor(\"wukong/sequential/factorization_machine_block_1/Reshape_1:0\", shape=(32, 16, 51), dtype=float32)**"
      ],
      "text/plain": [
       "<IPython.core.display.Markdown object>"
      ]
     },
     "metadata": {},
     "output_type": "display_data"
    },
    {
     "name": "stderr",
     "output_type": "stream",
     "text": [
      "2025-07-04 23:45:32,319 - DEBUG - f02-02-07:outputs : Tensor(\"wukong/sequential/factorization_machine_block_1/Reshape_1:0\", shape=(32, 16, 51), dtype=float32)\n",
      "DEBUG:root:f02-03:fmb : Tensor(\"wukong/sequential/factorization_machine_block_1/Reshape_1:0\", shape=(32, 16, 51), dtype=float32)\n"
     ]
    },
    {
     "data": {
      "text/markdown": [
       "**2025-07-04 23:45:32,322 - DEBUG - f02-03:fmb : Tensor(\"wukong/sequential/factorization_machine_block_1/Reshape_1:0\", shape=(32, 16, 51), dtype=float32)**"
      ],
      "text/plain": [
       "<IPython.core.display.Markdown object>"
      ]
     },
     "metadata": {},
     "output_type": "display_data"
    },
    {
     "data": {
      "text/markdown": [
       "**2025-07-04 23:45:32,322 - DEBUG - f02-03:fmb : Tensor(\"wukong/sequential/factorization_machine_block_1/Reshape_1:0\", shape=(32, 16, 51), dtype=float32)**"
      ],
      "text/plain": [
       "<IPython.core.display.Markdown object>"
      ]
     },
     "metadata": {},
     "output_type": "display_data"
    },
    {
     "name": "stderr",
     "output_type": "stream",
     "text": [
      "2025-07-04 23:45:32,322 - DEBUG - f02-03:fmb : Tensor(\"wukong/sequential/factorization_machine_block_1/Reshape_1:0\", shape=(32, 16, 51), dtype=float32)\n",
      "DEBUG:root:f02-04:outputs : Tensor(\"wukong/sequential/concat_1:0\", shape=(32, 32, 51), dtype=float32)\n"
     ]
    },
    {
     "data": {
      "text/markdown": [
       "**2025-07-04 23:45:32,328 - DEBUG - f02-04:outputs : Tensor(\"wukong/sequential/concat_1:0\", shape=(32, 32, 51), dtype=float32)**"
      ],
      "text/plain": [
       "<IPython.core.display.Markdown object>"
      ]
     },
     "metadata": {},
     "output_type": "display_data"
    },
    {
     "data": {
      "text/markdown": [
       "**2025-07-04 23:45:32,328 - DEBUG - f02-04:outputs : Tensor(\"wukong/sequential/concat_1:0\", shape=(32, 32, 51), dtype=float32)**"
      ],
      "text/plain": [
       "<IPython.core.display.Markdown object>"
      ]
     },
     "metadata": {},
     "output_type": "display_data"
    },
    {
     "name": "stderr",
     "output_type": "stream",
     "text": [
      "2025-07-04 23:45:32,328 - DEBUG - f02-04:outputs : Tensor(\"wukong/sequential/concat_1:0\", shape=(32, 32, 51), dtype=float32)\n",
      "DEBUG:root:f02-04-01:inputs : Tensor(\"wukong/sequential/layer_normalization/add_1:0\", shape=(32, 32, 51), dtype=float32)\n"
     ]
    },
    {
     "data": {
      "text/markdown": [
       "**2025-07-04 23:45:32,344 - DEBUG - f02-04-01:inputs : Tensor(\"wukong/sequential/layer_normalization/add_1:0\", shape=(32, 32, 51), dtype=float32)**"
      ],
      "text/plain": [
       "<IPython.core.display.Markdown object>"
      ]
     },
     "metadata": {},
     "output_type": "display_data"
    },
    {
     "data": {
      "text/markdown": [
       "**2025-07-04 23:45:32,344 - DEBUG - f02-04-01:inputs : Tensor(\"wukong/sequential/layer_normalization/add_1:0\", shape=(32, 32, 51), dtype=float32)**"
      ],
      "text/plain": [
       "<IPython.core.display.Markdown object>"
      ]
     },
     "metadata": {},
     "output_type": "display_data"
    },
    {
     "name": "stderr",
     "output_type": "stream",
     "text": [
      "2025-07-04 23:45:32,344 - DEBUG - f02-04-01:inputs : Tensor(\"wukong/sequential/layer_normalization/add_1:0\", shape=(32, 32, 51), dtype=float32)\n",
      "DEBUG:root:f02-04-02:outputs : Tensor(\"wukong/sequential/residual_projection_1/transpose:0\", shape=(32, 51, 32), dtype=float32)\n"
     ]
    },
    {
     "data": {
      "text/markdown": [
       "**2025-07-04 23:45:32,352 - DEBUG - f02-04-02:outputs : Tensor(\"wukong/sequential/residual_projection_1/transpose:0\", shape=(32, 51, 32), dtype=float32)**"
      ],
      "text/plain": [
       "<IPython.core.display.Markdown object>"
      ]
     },
     "metadata": {},
     "output_type": "display_data"
    },
    {
     "data": {
      "text/markdown": [
       "**2025-07-04 23:45:32,352 - DEBUG - f02-04-02:outputs : Tensor(\"wukong/sequential/residual_projection_1/transpose:0\", shape=(32, 51, 32), dtype=float32)**"
      ],
      "text/plain": [
       "<IPython.core.display.Markdown object>"
      ]
     },
     "metadata": {},
     "output_type": "display_data"
    },
    {
     "name": "stderr",
     "output_type": "stream",
     "text": [
      "2025-07-04 23:45:32,352 - DEBUG - f02-04-02:outputs : Tensor(\"wukong/sequential/residual_projection_1/transpose:0\", shape=(32, 51, 32), dtype=float32)\n",
      "DEBUG:root:f02-04-03:outputs : Tensor(\"wukong/sequential/residual_projection_1/Tensordot:0\", shape=(32, 51, 32), dtype=float32)\n"
     ]
    },
    {
     "data": {
      "text/markdown": [
       "**2025-07-04 23:45:32,369 - DEBUG - f02-04-03:outputs : Tensor(\"wukong/sequential/residual_projection_1/Tensordot:0\", shape=(32, 51, 32), dtype=float32)**"
      ],
      "text/plain": [
       "<IPython.core.display.Markdown object>"
      ]
     },
     "metadata": {},
     "output_type": "display_data"
    },
    {
     "data": {
      "text/markdown": [
       "**2025-07-04 23:45:32,369 - DEBUG - f02-04-03:outputs : Tensor(\"wukong/sequential/residual_projection_1/Tensordot:0\", shape=(32, 51, 32), dtype=float32)**"
      ],
      "text/plain": [
       "<IPython.core.display.Markdown object>"
      ]
     },
     "metadata": {},
     "output_type": "display_data"
    },
    {
     "name": "stderr",
     "output_type": "stream",
     "text": [
      "2025-07-04 23:45:32,369 - DEBUG - f02-04-03:outputs : Tensor(\"wukong/sequential/residual_projection_1/Tensordot:0\", shape=(32, 51, 32), dtype=float32)\n",
      "DEBUG:root:f02-04-04:outputs : Tensor(\"wukong/sequential/residual_projection_1/transpose_1:0\", shape=(32, 32, 51), dtype=float32)\n"
     ]
    },
    {
     "data": {
      "text/markdown": [
       "**2025-07-04 23:45:32,377 - DEBUG - f02-04-04:outputs : Tensor(\"wukong/sequential/residual_projection_1/transpose_1:0\", shape=(32, 32, 51), dtype=float32)**"
      ],
      "text/plain": [
       "<IPython.core.display.Markdown object>"
      ]
     },
     "metadata": {},
     "output_type": "display_data"
    },
    {
     "data": {
      "text/markdown": [
       "**2025-07-04 23:45:32,377 - DEBUG - f02-04-04:outputs : Tensor(\"wukong/sequential/residual_projection_1/transpose_1:0\", shape=(32, 32, 51), dtype=float32)**"
      ],
      "text/plain": [
       "<IPython.core.display.Markdown object>"
      ]
     },
     "metadata": {},
     "output_type": "display_data"
    },
    {
     "name": "stderr",
     "output_type": "stream",
     "text": [
      "2025-07-04 23:45:32,377 - DEBUG - f02-04-04:outputs : Tensor(\"wukong/sequential/residual_projection_1/transpose_1:0\", shape=(32, 32, 51), dtype=float32)\n",
      "DEBUG:root:f02-05-01:outputs : Tensor(\"wukong/sequential/concat_1:0\", shape=(32, 32, 51), dtype=float32)\n"
     ]
    },
    {
     "data": {
      "text/markdown": [
       "**2025-07-04 23:45:32,381 - DEBUG - f02-05-01:outputs : Tensor(\"wukong/sequential/concat_1:0\", shape=(32, 32, 51), dtype=float32)**"
      ],
      "text/plain": [
       "<IPython.core.display.Markdown object>"
      ]
     },
     "metadata": {},
     "output_type": "display_data"
    },
    {
     "data": {
      "text/markdown": [
       "**2025-07-04 23:45:32,381 - DEBUG - f02-05-01:outputs : Tensor(\"wukong/sequential/concat_1:0\", shape=(32, 32, 51), dtype=float32)**"
      ],
      "text/plain": [
       "<IPython.core.display.Markdown object>"
      ]
     },
     "metadata": {},
     "output_type": "display_data"
    },
    {
     "name": "stderr",
     "output_type": "stream",
     "text": [
      "2025-07-04 23:45:32,381 - DEBUG - f02-05-01:outputs : Tensor(\"wukong/sequential/concat_1:0\", shape=(32, 32, 51), dtype=float32)\n",
      "DEBUG:root:f02-05-02:residual_res : Tensor(\"wukong/sequential/residual_projection_1/transpose_1:0\", shape=(32, 32, 51), dtype=float32)\n"
     ]
    },
    {
     "data": {
      "text/markdown": [
       "**2025-07-04 23:45:32,384 - DEBUG - f02-05-02:residual_res : Tensor(\"wukong/sequential/residual_projection_1/transpose_1:0\", shape=(32, 32, 51), dtype=float32)**"
      ],
      "text/plain": [
       "<IPython.core.display.Markdown object>"
      ]
     },
     "metadata": {},
     "output_type": "display_data"
    },
    {
     "data": {
      "text/markdown": [
       "**2025-07-04 23:45:32,384 - DEBUG - f02-05-02:residual_res : Tensor(\"wukong/sequential/residual_projection_1/transpose_1:0\", shape=(32, 32, 51), dtype=float32)**"
      ],
      "text/plain": [
       "<IPython.core.display.Markdown object>"
      ]
     },
     "metadata": {},
     "output_type": "display_data"
    },
    {
     "name": "stderr",
     "output_type": "stream",
     "text": [
      "2025-07-04 23:45:32,384 - DEBUG - f02-05-02:residual_res : Tensor(\"wukong/sequential/residual_projection_1/transpose_1:0\", shape=(32, 32, 51), dtype=float32)\n",
      "DEBUG:root:f02-05:outputs : Tensor(\"wukong/sequential/layer_normalization_1/add_1:0\", shape=(32, 32, 51), dtype=float32)\n"
     ]
    },
    {
     "data": {
      "text/markdown": [
       "**2025-07-04 23:45:32,417 - DEBUG - f02-05:outputs : Tensor(\"wukong/sequential/layer_normalization_1/add_1:0\", shape=(32, 32, 51), dtype=float32)**"
      ],
      "text/plain": [
       "<IPython.core.display.Markdown object>"
      ]
     },
     "metadata": {},
     "output_type": "display_data"
    },
    {
     "data": {
      "text/markdown": [
       "**2025-07-04 23:45:32,417 - DEBUG - f02-05:outputs : Tensor(\"wukong/sequential/layer_normalization_1/add_1:0\", shape=(32, 32, 51), dtype=float32)**"
      ],
      "text/plain": [
       "<IPython.core.display.Markdown object>"
      ]
     },
     "metadata": {},
     "output_type": "display_data"
    },
    {
     "name": "stderr",
     "output_type": "stream",
     "text": [
      "2025-07-04 23:45:32,417 - DEBUG - f02-05:outputs : Tensor(\"wukong/sequential/layer_normalization_1/add_1:0\", shape=(32, 32, 51), dtype=float32)\n",
      "DEBUG:root:f03:outputs : Tensor(\"wukong/sequential/layer_normalization_1/add_1:0\", shape=(32, 32, 51), dtype=float32)\n"
     ]
    },
    {
     "data": {
      "text/markdown": [
       "**2025-07-04 23:45:32,424 - DEBUG - f03:outputs : Tensor(\"wukong/sequential/layer_normalization_1/add_1:0\", shape=(32, 32, 51), dtype=float32)**"
      ],
      "text/plain": [
       "<IPython.core.display.Markdown object>"
      ]
     },
     "metadata": {},
     "output_type": "display_data"
    },
    {
     "data": {
      "text/markdown": [
       "**2025-07-04 23:45:32,424 - DEBUG - f03:outputs : Tensor(\"wukong/sequential/layer_normalization_1/add_1:0\", shape=(32, 32, 51), dtype=float32)**"
      ],
      "text/plain": [
       "<IPython.core.display.Markdown object>"
      ]
     },
     "metadata": {},
     "output_type": "display_data"
    },
    {
     "name": "stderr",
     "output_type": "stream",
     "text": [
      "2025-07-04 23:45:32,424 - DEBUG - f03:outputs : Tensor(\"wukong/sequential/layer_normalization_1/add_1:0\", shape=(32, 32, 51), dtype=float32)\n",
      "DEBUG:root:f04:outputs : Tensor(\"wukong/Reshape_1:0\", shape=(32, 1632), dtype=float32)\n"
     ]
    },
    {
     "data": {
      "text/markdown": [
       "**2025-07-04 23:45:32,430 - DEBUG - f04:outputs : Tensor(\"wukong/Reshape_1:0\", shape=(32, 1632), dtype=float32)**"
      ],
      "text/plain": [
       "<IPython.core.display.Markdown object>"
      ]
     },
     "metadata": {},
     "output_type": "display_data"
    },
    {
     "data": {
      "text/markdown": [
       "**2025-07-04 23:45:32,430 - DEBUG - f04:outputs : Tensor(\"wukong/Reshape_1:0\", shape=(32, 1632), dtype=float32)**"
      ],
      "text/plain": [
       "<IPython.core.display.Markdown object>"
      ]
     },
     "metadata": {},
     "output_type": "display_data"
    },
    {
     "name": "stderr",
     "output_type": "stream",
     "text": [
      "2025-07-04 23:45:32,430 - DEBUG - f04:outputs : Tensor(\"wukong/Reshape_1:0\", shape=(32, 1632), dtype=float32)\n",
      "DEBUG:root:f05:outputs : Tensor(\"wukong/mlp/dense_12/BiasAdd:0\", shape=(32, 1), dtype=float32)\n"
     ]
    },
    {
     "data": {
      "text/markdown": [
       "**2025-07-04 23:45:32,532 - DEBUG - f05:outputs : Tensor(\"wukong/mlp/dense_12/BiasAdd:0\", shape=(32, 1), dtype=float32)**"
      ],
      "text/plain": [
       "<IPython.core.display.Markdown object>"
      ]
     },
     "metadata": {},
     "output_type": "display_data"
    },
    {
     "data": {
      "text/markdown": [
       "**2025-07-04 23:45:32,532 - DEBUG - f05:outputs : Tensor(\"wukong/mlp/dense_12/BiasAdd:0\", shape=(32, 1), dtype=float32)**"
      ],
      "text/plain": [
       "<IPython.core.display.Markdown object>"
      ]
     },
     "metadata": {},
     "output_type": "display_data"
    },
    {
     "name": "stderr",
     "output_type": "stream",
     "text": [
      "2025-07-04 23:45:32,532 - DEBUG - f05:outputs : Tensor(\"wukong/mlp/dense_12/BiasAdd:0\", shape=(32, 1), dtype=float32)\n",
      "INFO:tensorflow:AsyncGrad is disable\n"
     ]
    },
    {
     "data": {
      "text/markdown": [
       "**2025-07-04 23:45:33,811 - INFO - AsyncGrad is disable**"
      ],
      "text/plain": [
       "<IPython.core.display.Markdown object>"
      ]
     },
     "metadata": {},
     "output_type": "display_data"
    },
    {
     "data": {
      "text/markdown": [
       "**2025-07-04 23:45:33,811 - INFO - AsyncGrad is disable**"
      ],
      "text/plain": [
       "<IPython.core.display.Markdown object>"
      ]
     },
     "metadata": {},
     "output_type": "display_data"
    },
    {
     "name": "stderr",
     "output_type": "stream",
     "text": [
      "2025-07-04 23:45:33,811 - INFO - AsyncGrad is disable\n",
      "DEBUG:root:labels shape: Tensor(\"Shape:0\", shape=(1,), dtype=int32), logits_sigmoid shape: Tensor(\"Shape_1:0\", shape=(1,), dtype=int32)\n"
     ]
    },
    {
     "data": {
      "text/markdown": [
       "**2025-07-04 23:45:33,830 - DEBUG - labels shape: Tensor(\"Shape:0\", shape=(1,), dtype=int32), logits_sigmoid shape: Tensor(\"Shape_1:0\", shape=(1,), dtype=int32)**"
      ],
      "text/plain": [
       "<IPython.core.display.Markdown object>"
      ]
     },
     "metadata": {},
     "output_type": "display_data"
    },
    {
     "data": {
      "text/markdown": [
       "**2025-07-04 23:45:33,830 - DEBUG - labels shape: Tensor(\"Shape:0\", shape=(1,), dtype=int32), logits_sigmoid shape: Tensor(\"Shape_1:0\", shape=(1,), dtype=int32)**"
      ],
      "text/plain": [
       "<IPython.core.display.Markdown object>"
      ]
     },
     "metadata": {},
     "output_type": "display_data"
    },
    {
     "name": "stderr",
     "output_type": "stream",
     "text": [
      "2025-07-04 23:45:33,830 - DEBUG - labels shape: Tensor(\"Shape:0\", shape=(1,), dtype=int32), logits_sigmoid shape: Tensor(\"Shape_1:0\", shape=(1,), dtype=int32)\n",
      "DEBUG:root:auc_update: Tensor(\"auc_1/update_op:0\", shape=(), dtype=float32), auc_value: Tensor(\"auc_1/value:0\", shape=(), dtype=float32)\n"
     ]
    },
    {
     "data": {
      "text/markdown": [
       "**2025-07-04 23:45:34,020 - DEBUG - auc_update: Tensor(\"auc_1/update_op:0\", shape=(), dtype=float32), auc_value: Tensor(\"auc_1/value:0\", shape=(), dtype=float32)**"
      ],
      "text/plain": [
       "<IPython.core.display.Markdown object>"
      ]
     },
     "metadata": {},
     "output_type": "display_data"
    },
    {
     "data": {
      "text/markdown": [
       "**2025-07-04 23:45:34,020 - DEBUG - auc_update: Tensor(\"auc_1/update_op:0\", shape=(), dtype=float32), auc_value: Tensor(\"auc_1/value:0\", shape=(), dtype=float32)**"
      ],
      "text/plain": [
       "<IPython.core.display.Markdown object>"
      ]
     },
     "metadata": {},
     "output_type": "display_data"
    },
    {
     "name": "stderr",
     "output_type": "stream",
     "text": [
      "2025-07-04 23:45:34,020 - DEBUG - auc_update: Tensor(\"auc_1/update_op:0\", shape=(), dtype=float32), auc_value: Tensor(\"auc_1/value:0\", shape=(), dtype=float32)\n",
      "DEBUG:tensorflow:PAI_ENABLE_ONLINE_TUNING 0\n"
     ]
    },
    {
     "data": {
      "text/markdown": [
       "**2025-07-04 23:45:34,922 - DEBUG - PAI_ENABLE_ONLINE_TUNING 0**"
      ],
      "text/plain": [
       "<IPython.core.display.Markdown object>"
      ]
     },
     "metadata": {},
     "output_type": "display_data"
    },
    {
     "data": {
      "text/markdown": [
       "**2025-07-04 23:45:34,922 - DEBUG - PAI_ENABLE_ONLINE_TUNING 0**"
      ],
      "text/plain": [
       "<IPython.core.display.Markdown object>"
      ]
     },
     "metadata": {},
     "output_type": "display_data"
    },
    {
     "name": "stderr",
     "output_type": "stream",
     "text": [
      "2025-07-04 23:45:34,922 - DEBUG - PAI_ENABLE_ONLINE_TUNING 0\n"
     ]
    },
    {
     "name": "stdout",
     "output_type": "stream",
     "text": [
      "Epoch 0, Loss: 0.6944, AUC: 0.4568\n",
      "Epoch 1, Loss: 2.0042, AUC: 0.5000\n",
      "Epoch 2, Loss: 1.2139, AUC: 0.9523\n",
      "Epoch 3, Loss: 0.8257, AUC: 0.9568\n",
      "Epoch 4, Loss: 0.6400, AUC: 0.9909\n",
      "Epoch 5, Loss: 0.5928, AUC: 0.9955\n",
      "Epoch 6, Loss: 0.5894, AUC: 1.0000\n",
      "Epoch 7, Loss: 0.5919, AUC: 1.0000\n",
      "Epoch 8, Loss: 0.5952, AUC: 1.0000\n",
      "Epoch 9, Loss: 0.5964, AUC: 1.0000\n"
     ]
    }
   ],
   "source": [
    "# -*- coding: utf-8 -*-\n",
    "import numpy as np\n",
    "import tensorflow as tf\n",
    "from wukong import Wukong  # 假设 wukong.py 文件已包含模型定义\n",
    "from tensorflow.python.keras.regularizers import l2\n",
    "import logging\n",
    "from IPython import display\n",
    "\n",
    "\n",
    "# ========== 自定义日志处理器 ==========\n",
    "class DisplayLogHandler(logging.Handler):\n",
    "    def emit(self, record):\n",
    "        msg = self.format(record)\n",
    "        formatted_msg = \"**{}**\".format(msg)\n",
    "        display.display(display.Markdown(formatted_msg))\n",
    "\n",
    "\n",
    "# ========== 配置日志 ==========\n",
    "logger = logging.getLogger()\n",
    "logger.setLevel(logging.DEBUG)\n",
    "\n",
    "# 添加 DisplayLogHandler（用于 Jupyter）\n",
    "handler1 = DisplayLogHandler()\n",
    "formatter1 = logging.Formatter('%(asctime)s - %(levelname)s - %(message)s')\n",
    "handler1.setFormatter(formatter1)\n",
    "logger.addHandler(handler1)\n",
    "\n",
    "# 添加 StreamHandler（用于终端输出）\n",
    "handler2 = logging.StreamHandler()\n",
    "formatter2 = logging.Formatter('%(asctime)s - %(levelname)s - %(message)s')\n",
    "handler2.setFormatter(formatter2)\n",
    "logger.addHandler(handler2)\n",
    "\n",
    "\n",
    "# ========== 数据生成函数（返回 Dataset） ==========\n",
    "def generate_data_v1(BATCH_SIZE=32, INPUT_DIM=128):\n",
    "    inputs_0 = np.random.rand(BATCH_SIZE, INPUT_DIM).astype(np.float32)\n",
    "    inputs_1 = np.random.rand(BATCH_SIZE, INPUT_DIM).astype(np.float32)\n",
    "    feature_mean = (np.mean(inputs_0, axis=1) + np.mean(inputs_1, axis=1)) / 2\n",
    "    prob = 1 / (1 + np.exp(-feature_mean + np.random.normal(0, 1.0, size=BATCH_SIZE)))\n",
    "    prob = prob.reshape(BATCH_SIZE, 1)\n",
    "    labels = np.random.binomial(1, prob, size=(BATCH_SIZE, 1)).astype(np.float32)\n",
    "\n",
    "    # 创建 Dataset\n",
    "    dataset = tf.data.Dataset.from_tensor_slices(\n",
    "        ({'input_0': inputs_0, 'input_1': inputs_1}, labels)\n",
    "    ).shuffle(1000).batch(BATCH_SIZE)\n",
    "\n",
    "    return dataset\n",
    "\n",
    "\n",
    "# ========== 模型参数 ==========\n",
    "BATCH_SIZE = 32\n",
    "INPUT_DIM = 128\n",
    "EPOCHS = 10\n",
    "\n",
    "dataset = generate_data_v1(BATCH_SIZE=BATCH_SIZE, INPUT_DIM=INPUT_DIM)\n",
    "\n",
    "\n",
    "# ========== 损失函数和指标 ==========\n",
    "def binary_crossentropy_loss(logits, labels):\n",
    "    loss = tf.nn.sigmoid_cross_entropy_with_logits(labels=labels, logits=logits)\n",
    "    return tf.reduce_mean(loss)\n",
    "\n",
    "def auc_metric(logits, labels):\n",
    "    labels = tf.cast(labels, tf.bool)\n",
    "    labels = tf.reshape(labels, [-1])\n",
    "    logits_sigmoid = tf.sigmoid(logits)\n",
    "    logits_sigmoid = tf.reshape(logits_sigmoid, [-1])\n",
    "\n",
    "    # 获取 shape\n",
    "    labels_shape = tf.shape(labels)\n",
    "    logits_sigmoid_shape = tf.shape(logits_sigmoid)\n",
    "\n",
    "    # 增加调试日志\n",
    "    logging.debug(\"labels shape: %s, logits_sigmoid shape: %s\" % (labels_shape, logits_sigmoid_shape))\n",
    "\n",
    "    # 使用 tf.Assert 替代 Python assert\n",
    "    with tf.control_dependencies([\n",
    "        tf.Assert(tf.equal(labels_shape[0], logits_sigmoid_shape[0]), \n",
    "                  [tf.shape(labels), tf.shape(logits_sigmoid), \n",
    "                   \"labels and logits_sigmoid must have the same shape\"])\n",
    "    ]):\n",
    "        # 在 control_dependencies 上下文中执行 AUC 计算\n",
    "        auc_value, auc_update = tf.metrics.auc(labels, logits_sigmoid)\n",
    "\n",
    "    # 增加调试日志：记录 auc_update 和 auc_value 的具体值\n",
    "    logging.debug(\"auc_update: %s, auc_value: %s\" % (auc_update, auc_value))\n",
    "    return auc_update, auc_value\n",
    "\n",
    "\n",
    "# ========== 创建模型实例 ==========\n",
    "model = Wukong(\n",
    "    num_layers=2,\n",
    "    num_emb_in=102,  # 51 * 2\n",
    "    dim_emb=51,\n",
    "    num_emb_lcb=16,\n",
    "    num_emb_fmb=16,\n",
    "    rank_fmb=8,\n",
    "    num_hidden_wukong=2,\n",
    "    dim_hidden_wukong=16,\n",
    "    num_hidden_head=2,\n",
    "    dim_hidden_head=32,\n",
    "    dim_output=1,\n",
    "    dropout=0.1,\n",
    "#     kernel_regularizer=l2(1e-4)\n",
    "    kernel_regularizer=l2(1e-3)\n",
    "    \n",
    ")\n",
    "\n",
    "\n",
    "# ========== 构建图 ==========\n",
    "\n",
    "input_0 = tf.placeholder(tf.float32, [BATCH_SIZE, INPUT_DIM])\n",
    "input_1 = tf.placeholder(tf.float32, [BATCH_SIZE, INPUT_DIM])\n",
    "labels = tf.placeholder(tf.float32, [BATCH_SIZE, 1])\n",
    "\n",
    "\n",
    "inputs = tf.concat([input_0, input_1], axis=1)  # 合并为 (batch, 256)\n",
    "\n",
    "logits = model(inputs)\n",
    "loss = binary_crossentropy_loss(logits, labels)\n",
    "\n",
    "optimizer = tf.train.AdamOptimizer(learning_rate=0.001)\n",
    "train_op = optimizer.minimize(loss, var_list=model.trainable_weights)\n",
    "\n",
    "auc_update, auc_value = auc_metric(logits, labels)\n",
    "\n",
    "\n",
    "# ========== 初始化会话 ==========\n",
    "init_op = tf.group(tf.global_variables_initializer(), tf.local_variables_initializer())\n",
    "\n",
    "with tf.Session() as sess:\n",
    "    sess.run(init_op)\n",
    "\n",
    "    for epoch in range(EPOCHS):\n",
    "#         logging.debug(\"Epoch %d started\" % epoch)\n",
    "#         dataset = generate_data_v1(BATCH_SIZE=BATCH_SIZE, INPUT_DIM=INPUT_DIM)\n",
    "        iterator = dataset.make_one_shot_iterator()\n",
    "        next_batch = iterator.get_next()\n",
    "\n",
    "        # 重置 AUC 局部变量\n",
    "        sess.run(tf.local_variables_initializer())\n",
    "\n",
    "        total_loss = 0.0\n",
    "        step_count = 0\n",
    "\n",
    "        while True:\n",
    "            try:\n",
    "                inputs_batch, labels_batch = sess.run(next_batch)\n",
    "\n",
    "                # 增加调试日志\n",
    "#                 logging.debug(\"inputs_batch['input_0'] shape:{}\".format(inputs_batch['input_0'].shape))\n",
    "#                 logging.debug(\"inputs_batch['input_1'] shape:{}\".format(inputs_batch['input_1'].shape))\n",
    "#                 logging.debug(\"labels_batch shape:{}\".format(labels_batch.shape))\n",
    "\n",
    "                # 同步运行 train_op、loss、auc_update\n",
    "                _, loss_val, auc_update_val = sess.run(\n",
    "                    [train_op, loss, auc_update],\n",
    "                    feed_dict={\n",
    "                        input_0: inputs_batch['input_0'],\n",
    "                        input_1: inputs_batch['input_1'],\n",
    "                        labels: labels_batch\n",
    "                    }\n",
    "                )\n",
    "\n",
    "                # 增加调试日志：记录 auc_update_val 的值\n",
    "#                 logging.debug(\"auc_update_val: %f\" % auc_update_val)\n",
    "\n",
    "                total_loss += loss_val\n",
    "                step_count += 1\n",
    "\n",
    "            except tf.errors.OutOfRangeError:\n",
    "#                 logging.debug(\"End of dataset reached\")\n",
    "                break\n",
    "\n",
    "        # 增加调试日志：确保 auc_value 被正确计算\n",
    "        auc_result_val = sess.run(auc_value)\n",
    "#         logging.debug(\"Final AUC result: %f\" % auc_result_val)\n",
    "\n",
    "        print(\"Epoch %d, Loss: %.4f, AUC: %.4f\" % (epoch, total_loss / step_count, auc_result_val))\n"
   ]
  },
  {
   "cell_type": "code",
   "execution_count": null,
   "id": "42d2d397",
   "metadata": {},
   "outputs": [],
   "source": []
  }
 ],
 "metadata": {
  "kernelspec": {
   "display_name": "Python 3",
   "language": "python",
   "name": "python3"
  },
  "language_info": {
   "codemirror_mode": {
    "name": "ipython",
    "version": 3
   },
   "file_extension": ".py",
   "mimetype": "text/x-python",
   "name": "python",
   "nbconvert_exporter": "python",
   "pygments_lexer": "ipython3",
   "version": "3.12.1"
  }
 },
 "nbformat": 4,
 "nbformat_minor": 5
}
