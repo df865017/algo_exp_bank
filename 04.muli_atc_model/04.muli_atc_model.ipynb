{
 "cells": [
  {
   "cell_type": "markdown",
   "id": "4a27584e",
   "metadata": {},
   "source": [
    "### 1.多单建模--新建label 1-4 4head"
   ]
  },
  {
   "cell_type": "code",
   "execution_count": null,
   "id": "f3297796",
   "metadata": {},
   "outputs": [],
   "source": [
    "# multi-order\n",
    "self._ord_cnt_weights = tf.where(label_ord_cnt > 0, label_ord_cnt, tf.ones_like(label_ord_cnt))\n",
    "self.clipped_ord_cnt = tf.clip_by_value(label_ord_cnt, 1, 5)\n",
    "self.ord_gt1_label = tf.to_float(tf.greater(label_ord_cnt, 1))\n",
    "self.ord_gt2_label = tf.to_float(tf.greater(label_ord_cnt, 2))\n",
    "self.ord_gt3_label = tf.to_float(tf.greater(label_ord_cnt, 3))\n",
    "self.ord_gt4_label = tf.to_float(tf.greater(label_ord_cnt, 4))\n"
   ]
  },
  {
   "cell_type": "markdown",
   "id": "efe9e7c3",
   "metadata": {},
   "source": [
    "### 2. 多单建模-- 中间隐层"
   ]
  },
  {
   "cell_type": "code",
   "execution_count": null,
   "id": "eb970e78",
   "metadata": {},
   "outputs": [],
   "source": [
    "# shape - (?, 64)\n",
    "self._ord_cvr_net = self.build_dnn(net=self._cvr_dnn_net1, dims=[64, 64], name='Task_Ord_Tower')\n",
    "self._ord_cvr_net = self.mark_tag(self._ord_cvr_net, \"ord_cvr_net\")\n",
    "\n",
    "\n",
    "with tf.variable_scope('GMSL_ord_cvr'):\n",
    "    with tf.variable_scope('ord_cvr_logits'):\n",
    "        input_layer = tf.concat([self._ord_cvr_net, self._ctr_dnn_net1, self._cvr_dnn_net1], axis=1)\n",
    "        self._ord_cvr_logits = layers.fully_connected(input_layer, 4, activation_fn=None)\n"
   ]
  },
  {
   "cell_type": "markdown",
   "id": "9699095b",
   "metadata": {},
   "source": [
    "### 3. 拟合不同层的label\n"
   ]
  },
  {
   "cell_type": "code",
   "execution_count": null,
   "id": "4729a76a",
   "metadata": {},
   "outputs": [],
   "source": [
    "self.gate_nu_summary = OrderedDict()\n",
    "self.gate_nu_summary['Hidden_{}_{}_GateNU'.format(layer_id, name)] = gate_nu\n",
    "\n",
    "for name, var in self.gate_nu_summary.items():\n",
    "    variable_summaries(model, name, var, mode)\n",
    "\n",
    "self.gt1_pvp_prediction = tf.sigmoid(self._ord_cvr_logits[:,:1]) * self._pv_click_prediction\n",
    "self.gt2_pvp_prediction = tf.sigmoid(self._ord_cvr_logits[:,1:2]) * self._pv_click_prediction\n",
    "self.gt3_pvp_prediction = tf.sigmoid(self._ord_cvr_logits[:,2:3]) * self._pv_click_prediction\n",
    "self.gt4_pvp_prediction = tf.sigmoid(self._ord_cvr_logits[:,3:4]) * self._pv_click_prediction\n",
    "self._correct_gt1_pvp = tf.sigmoid(self._ord_cvr_logits[:, :1]) * self._correct_ctr_prediction\n",
    "self._correct_gt2_pvp = tf.sigmoid(self._ord_cvr_logits[:, 1:2]) * self._correct_ctr_prediction\n",
    "self._correct_gt3_pvp = tf.sigmoid(self._ord_cvr_logits[:, 2:3]) * self._correct_ctr_prediction\n",
    "self._correct_gt4_pvp = tf.sigmoid(self._ord_cvr_logits[:, 3:4]) * self._correct_ctr_prediction"
   ]
  },
  {
   "cell_type": "markdown",
   "id": "b1d52f4e",
   "metadata": {},
   "source": [
    "### 4. 联合loss"
   ]
  },
  {
   "cell_type": "code",
   "execution_count": null,
   "id": "ef7c87f0",
   "metadata": {},
   "outputs": [],
   "source": [
    "self.LOSSES = {\n",
    "    'pv_clk': LossFunc('bce')(y_true=self._click_labels, y_pred=self._pv_click_prediction, mask=self._pv_labels),\n",
    "    'clk_pay': LossFunc('bce')(y_true=self._pay_labels, y_pred=self._click_pay_prediction,  mask=self._click_labels),\n",
    "    'pv_pay': LossFunc('bce')(y_true=self._pay_labels, y_pred=self._mpvp,  mask=self._pv_labels),\n",
    "    'gt1_pay': LossFunc('bce')(y_true=self.ord_gt1_label, y_pred=self.gt1_pvp_prediction,  mask=self._pv_labels),\n",
    "    'gt2_pay': LossFunc('bce')(y_true=self.ord_gt2_label, y_pred=self.gt2_pvp_prediction,  mask=self._pv_labels),\n",
    "    'gt3_pay': LossFunc('bce')(y_true=self.ord_gt3_label, y_pred=self.gt3_pvp_prediction,  mask=self._pv_labels),\n",
    "    'gt4_pay': LossFunc('bce')(y_true=self.ord_gt4_label, y_pred=self.gt4_pvp_prediction,  mask=self._pv_labels),\n",
    "    'reg': tf.reduce_sum(tf.get_collection(tf.GraphKeys.REGULARIZATION_LOSSES))\n",
    "}\n",
    "\n",
    "self.LOSSES['loss'] = self._loss = self.LOSSES['pv_clk'] + self.LOSSES['clk_pay'] + self.LOSSES['pv_pay'] + \\\n",
    "                                    self.LOSSES['gt1_pay'] + self.LOSSES['gt2_pay'] + self.LOSSES['gt3_pay'] + self.LOSSES['gt4_pay'] + self.LOSSES['reg']"
   ]
  },
  {
   "cell_type": "markdown",
   "id": "7a50dd56",
   "metadata": {},
   "source": [
    "### 5. 计算AUC"
   ]
  },
  {
   "cell_type": "code",
   "execution_count": null,
   "id": "7444e790",
   "metadata": {},
   "outputs": [],
   "source": [
    "_, self._gt1_auc_op = calc_auc(label=self.ord_gt1_label, pred=self.gt1_pvp_prediction,\n",
    "                                mask=self._pv_labels, is_training=self._is_training, name=\"gt1_auc\")\n",
    "_, self._gt2_auc_op = calc_auc(label=self.ord_gt2_label, pred=self.gt2_pvp_prediction,\n",
    "                                mask=self._pv_labels, is_training=self._is_training, name=\"gt2_auc\")\n",
    "_, self._gt3_auc_op = calc_auc(label=self.ord_gt3_label, pred=self.gt3_pvp_prediction,\n",
    "                                mask=self._pv_labels, is_training=self._is_training, name=\"gt3_auc\")\n",
    "_, self._gt4_auc_op = calc_auc(label=self.ord_gt4_label, pred=self.gt4_pvp_prediction,\n",
    "                                mask=self._pv_labels, is_training=self._is_training, name=\"gt4_auc\")\n",
    "\n",
    "\n",
    "scalars = OrderedDict()\n",
    "scalars[\"ctr_auc\"] = self._ctr_auc_op\n",
    "scalars[\"cali_ctr_auc\"] = self._cali_ctr_auc_op\n",
    "scalars[\"cvr_auc\"] = self._cvr_auc_op\n",
    "scalars[\"pvp_auc\"] = self._pvp_auc_op\n",
    "scalars[\"gt1_auc\"] = self._gt1_auc_op\n",
    "scalars[\"gt2_auc\"] = self._gt2_auc_op\n",
    "scalars[\"gt3_auc\"] = self._gt3_auc_op\n",
    "scalars[\"gt4_auc\"] = self._gt4_auc_op\n",
    "scalars[\"cali_pvp_auc\"] = self._cali_pvp_auc_op\n",
    "scalars[\"batch_reg_loss\"] = self.LOSSES[\"reg\"]\n",
    "scalars[\"batch_ctr_loss\"] = self.LOSSES[\"pv_clk\"]\n",
    "scalars[\"batch_cvr_loss\"] = self.LOSSES[\"clk_pay\"]\n",
    "scalars[\"batch_pvp_loss\"] = self.LOSSES[\"pv_pay\"]\n",
    "scalars[\"label_pcoc\"] = tf.reduce_sum(self._pv_pay_prediction) / tf.reduce_sum(self._pay_labels)\n",
    "scalars[\"ord_pcoc\"] = tf.reduce_sum(self._pv_pay_prediction + self.gt1_pvp_prediction + self.gt2_pvp_prediction + self.gt3_pvp_prediction + self.gt4_pvp_prediction) / tf.reduce_sum(self.clipped_ord_cnt * self._pay_labels)\n",
    "scalars[\"batch_loss\"] = self._loss\n",
    "scalars[\"batch_comp_loss\"] = self._comp_loss\n",
    "model.add_summary(scalars, type=\"scalar\", mode=mode)"
   ]
  },
  {
   "cell_type": "markdown",
   "id": "63d8a7d2",
   "metadata": {},
   "source": [
    "### 6. 统计公式"
   ]
  },
  {
   "cell_type": "markdown",
   "id": "d1e8b36e",
   "metadata": {},
   "source": [
    "模型里引入多单head，增加了5个head，分别建模P(Order>=K),K=2,3,4,5的概率\n",
    "\n",
    "绝对价格带\t多单比例\tpvp_pcoc\tpvp12_pcoc\tpvp123_pcoc\tpvp1234_pcoc\tpvp12345_pcoc\tpv_pay_auc\tpay12_auc\tpay123_auc\tpay1234_auc\tpay12345_auc\n",
    "[-w,0.5)\t26.3%\t0.595\t0.753\t0.830\t0.874\t0.944\t0.8884\t0.8878\t0.8868\t0.8862\t0.885\n",
    "[0.5,2.0)\t12.5%\t0.834\t0.936\t0.970\t0.985\t1.006\t0.8833\t0.8829\t0.8825\t0.8823\t0.8819\n",
    "[2.0,5.0)\t6.4%\t0.925\t0.980\t0.991\t0.996\t1.001\t0.8968\t0.8969\t0.8968\t0.8968\t0.8968\n",
    "[5.0,10.0)\t4.1%\t0.956\t1.000\t1.008\t1.011\t1.014\t0.9082\t0.9082\t0.9082\t0.9082\t0.9082\n",
    "[10.0,20.0)\t4.5%\t0.993\t1.039\t1.048\t1.052\t1.057\t0.9219\t0.9219\t0.9219\t0.9219\t0.9219\n",
    "[20.0,+w)\t4.1%\t0.902\t0.945\t0.953\t0.957\t0.963\t0.9402\t0.9402\t0.9402\t0.9402\t0.9402\n",
    "\n",
    "\n"
   ]
  },
  {
   "cell_type": "markdown",
   "id": "e23df697",
   "metadata": {},
   "source": []
  }
 ],
 "metadata": {
  "kernelspec": {
   "display_name": "Python3.10",
   "language": "python",
   "name": "python3.10"
  },
  "language_info": {
   "codemirror_mode": {
    "name": "ipython",
    "version": 3
   },
   "file_extension": ".py",
   "mimetype": "text/x-python",
   "name": "python",
   "nbconvert_exporter": "python",
   "pygments_lexer": "ipython3",
   "version": "3.10.13+gc"
  }
 },
 "nbformat": 4,
 "nbformat_minor": 5
}
