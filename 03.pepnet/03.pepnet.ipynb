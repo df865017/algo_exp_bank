{
 "cells": [
  {
   "cell_type": "markdown",
   "id": "4a27584e",
   "metadata": {},
   "source": [
    "### 1.import gateNU"
   ]
  },
  {
   "cell_type": "code",
   "execution_count": null,
   "id": "f3297796",
   "metadata": {},
   "outputs": [],
   "source": [
    "from pepnet import GateNU\n",
    "import tensorflow as tf\n",
    "from run_config import RunConfig as cfg\n",
    "class GateNU:\n",
    "    def __init__(self,\n",
    "                 hidden_unit,\n",
    "                 gamma=2.,\n",
    "                 l2_reg=cfg.dnn_l2_reg,\n",
    "                 scope='gate_nu'):\n",
    "        self.hidden_unit = hidden_unit\n",
    "        self.gamma = gamma\n",
    "        self.l2_reg = l2_reg\n",
    "        self.scope = scope\n",
    "    def __call__(self, inputs):\n",
    "        with tf.variable_scope(self.scope):\n",
    "            output = tf.layers.dense(inputs, self.hidden_unit, activation=\"relu\",\n",
    "                                    kernel_regularizer=tf.contrib.layers.l2_regularizer(self.l2_reg),\n",
    "                                    name=\"dense_1\")\n",
    "            output = tf.layers.dense(output, self.hidden_unit, activation=\"sigmoid\",\n",
    "                                    kernel_regularizer=tf.contrib.layers.l2_regularizer(self.l2_reg),\n",
    "                                    name=\"dense_2\")\n",
    "            return self.gamma * output\n",
    "# def gen_gate_nu_list(inputs, persona, scope='ppnet', share_gate_nu=False, num_task=cfg.num_task, hidden_units=cfg.dnn_hidden_units, l2_reg=cfg.dnn_l2_reg):\n",
    "#     num_layer = len(hidden_units)\n",
    "#     task_gate_list = []\n",
    "#     with tf.variable_scope(scope):\n",
    "#         concat_input = tf.concat([persona, tf.stop_gradient(inputs)], axis=-1)\n",
    "#         if share_gate_nu:\n",
    "#             gate_nu = [GateNU([hidden_unit*num_task, hidden_unit*num_task], l2_reg=l2_reg) for hidden_unit in hidden_units]\n",
    "#             for i in range(num_layer):\n",
    "#                 gate = gate_nu[i](concat_input)\n",
    "#                 gate = tf.split(gate, num_task, axis=1)\n",
    "#                 task_gate_list.append(gate)\n",
    "#         else:\n",
    "#             gate_nu = [ [GateNU([hidden_unit, hidden_unit], l2_reg=l2_reg) for hidden_unit in hidden_units] for _ in range(num_task) ]\n",
    "#             for task_id in range(num_task):\n",
    "#                 task_gates = [ gate_nu[task_id][i](concat_input) for i in range(num_layer) ]\n",
    "#                 task_gate_list.append(task_gates)\n",
    "#     return task_gate_list"
   ]
  },
  {
   "cell_type": "markdown",
   "id": "efe9e7c3",
   "metadata": {},
   "source": [
    "### 2. add feature"
   ]
  },
  {
   "cell_type": "code",
   "execution_count": null,
   "id": "eb970e78",
   "metadata": {},
   "outputs": [],
   "source": [
    "# ppnet\n",
    "self.usr_v_level = self.mark_tag(input_tensors.get(\"v_level\"), \"usr_v_level\")\n",
    "self.usr_activation_level = self.mark_tag(input_tensors.get(\"usr_activation_level\"), \"usr_activation_level\")\n",
    "self.usr_lifecycle = self.mark_tag(input_tensors.get(\"usr_lifecycle\"), \"usr_lifecycle\")\n",
    "self.purchase_power = self.mark_tag(input_tensors.get(\"purchase_power\"), \"purchase_power\")\n",
    "self.ur1 = self.mark_tag(input_tensors.get(\"ur1\"), \"ur1\")\n",
    "self.ur2 = self.mark_tag(input_tensors.get(\"ur2\"), \"ur2\")\n",
    "self.bu_id = self.mark_tag(input_tensors.get(\"bu_id\"), \"bu_id\")\n",
    "self.cate_id = self.mark_tag(input_tensors.get(\"cate_id\"), \"cate_id\")\n",
    "self.ir1 = self.mark_tag(input_tensors.get(\"ir1\"), \"ir1\")\n",
    "self.item_price_level_13d = self.mark_tag(input_tensors.get(\"price_level_13d\"), \"item_price_level_13d\")\n",
    "self.fs4_saro = self.mark_tag(input_tensors.get(\"fs4_saro\"), \"fs4_saro\")\n",
    "self.ship_ontime_percent = self.mark_tag(input_tensors.get(\"ship_ontime_percent\"), \"ship_ontime_percent\")\n",
    "self.page_idx = self.mark_tag(input_tensors.get(\"page_idx\"), \"page_idx\")\n",
    "\n",
    "# 基础特征\n",
    "netarray_concat = tf.concat(netarray, axis=1)\n",
    "\n",
    "# 个性化特征层\n",
    "self.persona = self.mark_tag(\n",
    "    tf.concat([self.usr_v_level, self.usr_activation_level, self.usr_lifecycle, self.purchase_power, self.ur1, self.ur2, # user\n",
    "                self._traffic_src_input_layer, self.page_idx, # context\n",
    "                self.bu_id, self.cate_id, self.is_ad, self.ir1, self.item_price_level_13d, self.fs4_saro, self.ship_ontime_percent], # item\n",
    "                axis=1),\n",
    "    \"gate_nu_persona_layer\"\n",
    "    )\n",
    "\n",
    "# 残差连接网络\n",
    "gate_nu = GateNU(num_hidden_units)(tf.concat([self.persona, tf.stop_gradient(netarray_concat)], axis=-1))\n",
    "self.gate_nu_summary['Hidden_{}_{}_GateNU'.format(layer_id, name)] = gate_nu\n",
    "net = net*gate_nu\n",
    "\n"
   ]
  },
  {
   "cell_type": "markdown",
   "id": "9699095b",
   "metadata": {},
   "source": [
    "### 3. summary show"
   ]
  },
  {
   "cell_type": "code",
   "execution_count": null,
   "id": "4729a76a",
   "metadata": {},
   "outputs": [],
   "source": [
    "self.gate_nu_summary = OrderedDict()\n",
    "self.gate_nu_summary['Hidden_{}_{}_GateNU'.format(layer_id, name)] = gate_nu\n",
    "\n",
    "for name, var in self.gate_nu_summary.items():\n",
    "    variable_summaries(model, name, var, mode)\n"
   ]
  }
 ],
 "metadata": {
  "kernelspec": {
   "display_name": "Python3.10",
   "language": "python",
   "name": "python3.10"
  },
  "language_info": {
   "codemirror_mode": {
    "name": "ipython",
    "version": 3
   },
   "file_extension": ".py",
   "mimetype": "text/x-python",
   "name": "python",
   "nbconvert_exporter": "python",
   "pygments_lexer": "ipython3",
   "version": "3.10.13+gc"
  }
 },
 "nbformat": 4,
 "nbformat_minor": 5
}
